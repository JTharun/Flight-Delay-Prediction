{
  "nbformat": 4,
  "nbformat_minor": 0,
  "metadata": {
    "colab": {
      "name": "Module3.ipynb",
      "provenance": [],
      "collapsed_sections": []
    },
    "kernelspec": {
      "name": "python3",
      "display_name": "Python 3"
    },
    "language_info": {
      "name": "python"
    }
  },
  "cells": [
    {
      "cell_type": "code",
      "execution_count": 25,
      "metadata": {
        "id": "Wzh3-PgURFvY"
      },
      "outputs": [],
      "source": [
        "import pandas as pd\n",
        "from sklearn.model_selection import train_test_split\n",
        "from sklearn.linear_model import LinearRegression\n",
        "from sklearn.metrics import mean_squared_error\n",
        "from sklearn.metrics import mean_absolute_error\n",
        "from sklearn.metrics import r2_score\n",
        "from sklearn.ensemble import ExtraTreesRegressor\n",
        "import xgboost as xgb\n",
        "from sklearn.ensemble import RandomForestRegressor\n",
        "import numpy as np\n",
        "import matplotlib.pyplot as plt"
      ]
    },
    {
      "cell_type": "code",
      "source": [
        "file1=open('/content/drive/MyDrive/RegressionData.csv')"
      ],
      "metadata": {
        "id": "66a4D7dRSAZ4"
      },
      "execution_count": 2,
      "outputs": []
    },
    {
      "cell_type": "code",
      "source": [
        "data=pd.read_csv(file1)"
      ],
      "metadata": {
        "id": "2cTwHgYVSMd_"
      },
      "execution_count": 3,
      "outputs": []
    },
    {
      "cell_type": "code",
      "source": [
        "data\n"
      ],
      "metadata": {
        "colab": {
          "base_uri": "https://localhost:8080/",
          "height": 505
        },
        "id": "lhwrKeHHSQEq",
        "outputId": "ca9535c1-3464-4009-9f9d-c2be8811958e"
      },
      "execution_count": 4,
      "outputs": [
        {
          "output_type": "execute_result",
          "data": {
            "text/html": [
              "\n",
              "  <div id=\"df-c00eb0e6-637d-4651-b0d6-8ecf525431dc\">\n",
              "    <div class=\"colab-df-container\">\n",
              "      <div>\n",
              "<style scoped>\n",
              "    .dataframe tbody tr th:only-of-type {\n",
              "        vertical-align: middle;\n",
              "    }\n",
              "\n",
              "    .dataframe tbody tr th {\n",
              "        vertical-align: top;\n",
              "    }\n",
              "\n",
              "    .dataframe thead th {\n",
              "        text-align: right;\n",
              "    }\n",
              "</style>\n",
              "<table border=\"1\" class=\"dataframe\">\n",
              "  <thead>\n",
              "    <tr style=\"text-align: right;\">\n",
              "      <th></th>\n",
              "      <th>Unnamed: 0</th>\n",
              "      <th>Unnamed: 0.1</th>\n",
              "      <th>Unnamed: 0_x</th>\n",
              "      <th>FlightDate</th>\n",
              "      <th>Quarter</th>\n",
              "      <th>Year</th>\n",
              "      <th>Month</th>\n",
              "      <th>DayofMonth</th>\n",
              "      <th>DepTime</th>\n",
              "      <th>DepDel15</th>\n",
              "      <th>CRSDepTime</th>\n",
              "      <th>DepDelayMinutes</th>\n",
              "      <th>OriginAirportID</th>\n",
              "      <th>DestAirportID</th>\n",
              "      <th>ArrTime</th>\n",
              "      <th>CRSArrTime</th>\n",
              "      <th>ArrDel15</th>\n",
              "      <th>ArrDelayMinutes</th>\n",
              "      <th>Origin</th>\n",
              "      <th>Dest</th>\n",
              "      <th>Unnamed: 0_y</th>\n",
              "      <th>airport_x</th>\n",
              "      <th>date_x</th>\n",
              "      <th>windspeedKmph_x</th>\n",
              "      <th>winddirDegree_x</th>\n",
              "      <th>weatherCode_x</th>\n",
              "      <th>precipMM_x</th>\n",
              "      <th>visibility_x</th>\n",
              "      <th>pressure_x</th>\n",
              "      <th>cloudcover_x</th>\n",
              "      <th>DewPointF_x</th>\n",
              "      <th>WindGustKmph_x</th>\n",
              "      <th>tempF_x</th>\n",
              "      <th>WindChillF_x</th>\n",
              "      <th>humidity_x</th>\n",
              "      <th>time_x</th>\n",
              "      <th>Unnamed: 0.1.1</th>\n",
              "      <th>airport_y</th>\n",
              "      <th>date_y</th>\n",
              "      <th>windspeedKmph_y</th>\n",
              "      <th>winddirDegree_y</th>\n",
              "      <th>weatherCode_y</th>\n",
              "      <th>precipMM_y</th>\n",
              "      <th>visibility_y</th>\n",
              "      <th>pressure_y</th>\n",
              "      <th>cloudcover_y</th>\n",
              "      <th>DewPointF_y</th>\n",
              "      <th>WindGustKmph_y</th>\n",
              "      <th>tempF_y</th>\n",
              "      <th>WindChillF_y</th>\n",
              "      <th>humidity_y</th>\n",
              "      <th>time_y</th>\n",
              "    </tr>\n",
              "  </thead>\n",
              "  <tbody>\n",
              "    <tr>\n",
              "      <th>0</th>\n",
              "      <td>0</td>\n",
              "      <td>1605368</td>\n",
              "      <td>380364</td>\n",
              "      <td>2017-07-27</td>\n",
              "      <td>3</td>\n",
              "      <td>2017</td>\n",
              "      <td>7</td>\n",
              "      <td>27</td>\n",
              "      <td>2332.0</td>\n",
              "      <td>1.0</td>\n",
              "      <td>2200</td>\n",
              "      <td>72.0</td>\n",
              "      <td>12892</td>\n",
              "      <td>13204</td>\n",
              "      <td>722.0</td>\n",
              "      <td>600</td>\n",
              "      <td>1.0</td>\n",
              "      <td>47.0</td>\n",
              "      <td>LAX</td>\n",
              "      <td>MCO</td>\n",
              "      <td>630</td>\n",
              "      <td>MCO</td>\n",
              "      <td>2017-07-27</td>\n",
              "      <td>8</td>\n",
              "      <td>163</td>\n",
              "      <td>113</td>\n",
              "      <td>0.1</td>\n",
              "      <td>10</td>\n",
              "      <td>1016</td>\n",
              "      <td>15</td>\n",
              "      <td>76</td>\n",
              "      <td>12</td>\n",
              "      <td>82</td>\n",
              "      <td>82</td>\n",
              "      <td>82</td>\n",
              "      <td>600</td>\n",
              "      <td>646</td>\n",
              "      <td>LAX</td>\n",
              "      <td>2017-07-27</td>\n",
              "      <td>9</td>\n",
              "      <td>230</td>\n",
              "      <td>113</td>\n",
              "      <td>0.0</td>\n",
              "      <td>10</td>\n",
              "      <td>1013</td>\n",
              "      <td>0</td>\n",
              "      <td>70</td>\n",
              "      <td>10</td>\n",
              "      <td>83</td>\n",
              "      <td>83</td>\n",
              "      <td>70</td>\n",
              "      <td>2200</td>\n",
              "    </tr>\n",
              "    <tr>\n",
              "      <th>1</th>\n",
              "      <td>1</td>\n",
              "      <td>858232</td>\n",
              "      <td>44803</td>\n",
              "      <td>2016-09-08</td>\n",
              "      <td>3</td>\n",
              "      <td>2016</td>\n",
              "      <td>9</td>\n",
              "      <td>8</td>\n",
              "      <td>1017.0</td>\n",
              "      <td>1.0</td>\n",
              "      <td>800</td>\n",
              "      <td>92.0</td>\n",
              "      <td>14107</td>\n",
              "      <td>10397</td>\n",
              "      <td>1706.0</td>\n",
              "      <td>1500</td>\n",
              "      <td>1.0</td>\n",
              "      <td>94.0</td>\n",
              "      <td>PHX</td>\n",
              "      <td>ATL</td>\n",
              "      <td>183</td>\n",
              "      <td>ATL</td>\n",
              "      <td>2016-09-08</td>\n",
              "      <td>8</td>\n",
              "      <td>273</td>\n",
              "      <td>113</td>\n",
              "      <td>0.0</td>\n",
              "      <td>10</td>\n",
              "      <td>1017</td>\n",
              "      <td>0</td>\n",
              "      <td>60</td>\n",
              "      <td>10</td>\n",
              "      <td>89</td>\n",
              "      <td>90</td>\n",
              "      <td>36</td>\n",
              "      <td>1500</td>\n",
              "      <td>176</td>\n",
              "      <td>PHX</td>\n",
              "      <td>2016-09-08</td>\n",
              "      <td>8</td>\n",
              "      <td>255</td>\n",
              "      <td>116</td>\n",
              "      <td>0.0</td>\n",
              "      <td>10</td>\n",
              "      <td>1017</td>\n",
              "      <td>18</td>\n",
              "      <td>70</td>\n",
              "      <td>9</td>\n",
              "      <td>83</td>\n",
              "      <td>80</td>\n",
              "      <td>71</td>\n",
              "      <td>800</td>\n",
              "    </tr>\n",
              "    <tr>\n",
              "      <th>2</th>\n",
              "      <td>2</td>\n",
              "      <td>1580428</td>\n",
              "      <td>128154</td>\n",
              "      <td>2017-06-30</td>\n",
              "      <td>2</td>\n",
              "      <td>2017</td>\n",
              "      <td>6</td>\n",
              "      <td>30</td>\n",
              "      <td>1057.0</td>\n",
              "      <td>1.0</td>\n",
              "      <td>900</td>\n",
              "      <td>112.0</td>\n",
              "      <td>12892</td>\n",
              "      <td>14771</td>\n",
              "      <td>1246.0</td>\n",
              "      <td>1000</td>\n",
              "      <td>1.0</td>\n",
              "      <td>144.0</td>\n",
              "      <td>LAX</td>\n",
              "      <td>SFO</td>\n",
              "      <td>706</td>\n",
              "      <td>SFO</td>\n",
              "      <td>2017-06-30</td>\n",
              "      <td>20</td>\n",
              "      <td>265</td>\n",
              "      <td>113</td>\n",
              "      <td>0.0</td>\n",
              "      <td>10</td>\n",
              "      <td>1013</td>\n",
              "      <td>25</td>\n",
              "      <td>53</td>\n",
              "      <td>22</td>\n",
              "      <td>60</td>\n",
              "      <td>61</td>\n",
              "      <td>73</td>\n",
              "      <td>1000</td>\n",
              "      <td>705</td>\n",
              "      <td>LAX</td>\n",
              "      <td>2017-06-30</td>\n",
              "      <td>8</td>\n",
              "      <td>205</td>\n",
              "      <td>113</td>\n",
              "      <td>0.0</td>\n",
              "      <td>10</td>\n",
              "      <td>1012</td>\n",
              "      <td>0</td>\n",
              "      <td>61</td>\n",
              "      <td>9</td>\n",
              "      <td>63</td>\n",
              "      <td>64</td>\n",
              "      <td>84</td>\n",
              "      <td>900</td>\n",
              "    </tr>\n",
              "    <tr>\n",
              "      <th>3</th>\n",
              "      <td>3</td>\n",
              "      <td>963048</td>\n",
              "      <td>145973</td>\n",
              "      <td>2017-01-11</td>\n",
              "      <td>1</td>\n",
              "      <td>2017</td>\n",
              "      <td>1</td>\n",
              "      <td>11</td>\n",
              "      <td>1239.0</td>\n",
              "      <td>1.0</td>\n",
              "      <td>1100</td>\n",
              "      <td>84.0</td>\n",
              "      <td>11292</td>\n",
              "      <td>14747</td>\n",
              "      <td>1426.0</td>\n",
              "      <td>1300</td>\n",
              "      <td>1.0</td>\n",
              "      <td>75.0</td>\n",
              "      <td>DEN</td>\n",
              "      <td>SEA</td>\n",
              "      <td>253</td>\n",
              "      <td>SEA</td>\n",
              "      <td>2017-01-11</td>\n",
              "      <td>12</td>\n",
              "      <td>19</td>\n",
              "      <td>119</td>\n",
              "      <td>0.0</td>\n",
              "      <td>10</td>\n",
              "      <td>1011</td>\n",
              "      <td>78</td>\n",
              "      <td>20</td>\n",
              "      <td>15</td>\n",
              "      <td>28</td>\n",
              "      <td>20</td>\n",
              "      <td>71</td>\n",
              "      <td>1300</td>\n",
              "      <td>251</td>\n",
              "      <td>DEN</td>\n",
              "      <td>2017-01-11</td>\n",
              "      <td>10</td>\n",
              "      <td>195</td>\n",
              "      <td>113</td>\n",
              "      <td>0.0</td>\n",
              "      <td>10</td>\n",
              "      <td>1001</td>\n",
              "      <td>14</td>\n",
              "      <td>29</td>\n",
              "      <td>18</td>\n",
              "      <td>40</td>\n",
              "      <td>34</td>\n",
              "      <td>67</td>\n",
              "      <td>1100</td>\n",
              "    </tr>\n",
              "    <tr>\n",
              "      <th>4</th>\n",
              "      <td>4</td>\n",
              "      <td>714661</td>\n",
              "      <td>195957</td>\n",
              "      <td>2016-07-30</td>\n",
              "      <td>3</td>\n",
              "      <td>2016</td>\n",
              "      <td>7</td>\n",
              "      <td>30</td>\n",
              "      <td>2215.0</td>\n",
              "      <td>1.0</td>\n",
              "      <td>1800</td>\n",
              "      <td>230.0</td>\n",
              "      <td>12478</td>\n",
              "      <td>13204</td>\n",
              "      <td>119.0</td>\n",
              "      <td>2100</td>\n",
              "      <td>1.0</td>\n",
              "      <td>230.0</td>\n",
              "      <td>JFK</td>\n",
              "      <td>MCO</td>\n",
              "      <td>717</td>\n",
              "      <td>MCO</td>\n",
              "      <td>2016-07-30</td>\n",
              "      <td>13</td>\n",
              "      <td>117</td>\n",
              "      <td>386</td>\n",
              "      <td>0.7</td>\n",
              "      <td>10</td>\n",
              "      <td>1016</td>\n",
              "      <td>29</td>\n",
              "      <td>75</td>\n",
              "      <td>17</td>\n",
              "      <td>86</td>\n",
              "      <td>86</td>\n",
              "      <td>71</td>\n",
              "      <td>2100</td>\n",
              "      <td>714</td>\n",
              "      <td>JFK</td>\n",
              "      <td>2016-07-30</td>\n",
              "      <td>17</td>\n",
              "      <td>150</td>\n",
              "      <td>353</td>\n",
              "      <td>0.6</td>\n",
              "      <td>10</td>\n",
              "      <td>1016</td>\n",
              "      <td>99</td>\n",
              "      <td>73</td>\n",
              "      <td>22</td>\n",
              "      <td>80</td>\n",
              "      <td>79</td>\n",
              "      <td>82</td>\n",
              "      <td>1800</td>\n",
              "    </tr>\n",
              "    <tr>\n",
              "      <th>...</th>\n",
              "      <td>...</td>\n",
              "      <td>...</td>\n",
              "      <td>...</td>\n",
              "      <td>...</td>\n",
              "      <td>...</td>\n",
              "      <td>...</td>\n",
              "      <td>...</td>\n",
              "      <td>...</td>\n",
              "      <td>...</td>\n",
              "      <td>...</td>\n",
              "      <td>...</td>\n",
              "      <td>...</td>\n",
              "      <td>...</td>\n",
              "      <td>...</td>\n",
              "      <td>...</td>\n",
              "      <td>...</td>\n",
              "      <td>...</td>\n",
              "      <td>...</td>\n",
              "      <td>...</td>\n",
              "      <td>...</td>\n",
              "      <td>...</td>\n",
              "      <td>...</td>\n",
              "      <td>...</td>\n",
              "      <td>...</td>\n",
              "      <td>...</td>\n",
              "      <td>...</td>\n",
              "      <td>...</td>\n",
              "      <td>...</td>\n",
              "      <td>...</td>\n",
              "      <td>...</td>\n",
              "      <td>...</td>\n",
              "      <td>...</td>\n",
              "      <td>...</td>\n",
              "      <td>...</td>\n",
              "      <td>...</td>\n",
              "      <td>...</td>\n",
              "      <td>...</td>\n",
              "      <td>...</td>\n",
              "      <td>...</td>\n",
              "      <td>...</td>\n",
              "      <td>...</td>\n",
              "      <td>...</td>\n",
              "      <td>...</td>\n",
              "      <td>...</td>\n",
              "      <td>...</td>\n",
              "      <td>...</td>\n",
              "      <td>...</td>\n",
              "      <td>...</td>\n",
              "      <td>...</td>\n",
              "      <td>...</td>\n",
              "      <td>...</td>\n",
              "      <td>...</td>\n",
              "    </tr>\n",
              "    <tr>\n",
              "      <th>61171</th>\n",
              "      <td>61171</td>\n",
              "      <td>620688</td>\n",
              "      <td>134496</td>\n",
              "      <td>2016-06-20</td>\n",
              "      <td>2</td>\n",
              "      <td>2016</td>\n",
              "      <td>6</td>\n",
              "      <td>20</td>\n",
              "      <td>1032.0</td>\n",
              "      <td>1.0</td>\n",
              "      <td>1000</td>\n",
              "      <td>27.0</td>\n",
              "      <td>12892</td>\n",
              "      <td>14771</td>\n",
              "      <td>1147.0</td>\n",
              "      <td>1100</td>\n",
              "      <td>0.0</td>\n",
              "      <td>13.0</td>\n",
              "      <td>LAX</td>\n",
              "      <td>SFO</td>\n",
              "      <td>467</td>\n",
              "      <td>SFO</td>\n",
              "      <td>2016-06-20</td>\n",
              "      <td>16</td>\n",
              "      <td>268</td>\n",
              "      <td>122</td>\n",
              "      <td>0.0</td>\n",
              "      <td>8</td>\n",
              "      <td>1020</td>\n",
              "      <td>73</td>\n",
              "      <td>54</td>\n",
              "      <td>18</td>\n",
              "      <td>63</td>\n",
              "      <td>64</td>\n",
              "      <td>82</td>\n",
              "      <td>1100</td>\n",
              "      <td>466</td>\n",
              "      <td>LAX</td>\n",
              "      <td>2016-06-20</td>\n",
              "      <td>7</td>\n",
              "      <td>280</td>\n",
              "      <td>113</td>\n",
              "      <td>0.0</td>\n",
              "      <td>10</td>\n",
              "      <td>1011</td>\n",
              "      <td>18</td>\n",
              "      <td>65</td>\n",
              "      <td>14</td>\n",
              "      <td>83</td>\n",
              "      <td>79</td>\n",
              "      <td>64</td>\n",
              "      <td>1000</td>\n",
              "    </tr>\n",
              "    <tr>\n",
              "      <th>61172</th>\n",
              "      <td>61172</td>\n",
              "      <td>185528</td>\n",
              "      <td>28217</td>\n",
              "      <td>2016-11-15</td>\n",
              "      <td>4</td>\n",
              "      <td>2016</td>\n",
              "      <td>11</td>\n",
              "      <td>15</td>\n",
              "      <td>2111.0</td>\n",
              "      <td>1.0</td>\n",
              "      <td>2000</td>\n",
              "      <td>81.0</td>\n",
              "      <td>10397</td>\n",
              "      <td>11618</td>\n",
              "      <td>2335.0</td>\n",
              "      <td>2200</td>\n",
              "      <td>1.0</td>\n",
              "      <td>90.0</td>\n",
              "      <td>ATL</td>\n",
              "      <td>EWR</td>\n",
              "      <td>358</td>\n",
              "      <td>EWR</td>\n",
              "      <td>2016-11-15</td>\n",
              "      <td>9</td>\n",
              "      <td>292</td>\n",
              "      <td>143</td>\n",
              "      <td>0.0</td>\n",
              "      <td>5</td>\n",
              "      <td>1009</td>\n",
              "      <td>12</td>\n",
              "      <td>51</td>\n",
              "      <td>12</td>\n",
              "      <td>42</td>\n",
              "      <td>41</td>\n",
              "      <td>92</td>\n",
              "      <td>2200</td>\n",
              "      <td>356</td>\n",
              "      <td>ATL</td>\n",
              "      <td>2016-11-15</td>\n",
              "      <td>5</td>\n",
              "      <td>288</td>\n",
              "      <td>113</td>\n",
              "      <td>0.0</td>\n",
              "      <td>10</td>\n",
              "      <td>1014</td>\n",
              "      <td>22</td>\n",
              "      <td>43</td>\n",
              "      <td>6</td>\n",
              "      <td>66</td>\n",
              "      <td>66</td>\n",
              "      <td>43</td>\n",
              "      <td>2000</td>\n",
              "    </tr>\n",
              "    <tr>\n",
              "      <th>61173</th>\n",
              "      <td>61173</td>\n",
              "      <td>1306038</td>\n",
              "      <td>359295</td>\n",
              "      <td>2017-03-12</td>\n",
              "      <td>1</td>\n",
              "      <td>2017</td>\n",
              "      <td>3</td>\n",
              "      <td>12</td>\n",
              "      <td>1204.0</td>\n",
              "      <td>1.0</td>\n",
              "      <td>800</td>\n",
              "      <td>254.0</td>\n",
              "      <td>12478</td>\n",
              "      <td>11057</td>\n",
              "      <td>1404.0</td>\n",
              "      <td>1000</td>\n",
              "      <td>1.0</td>\n",
              "      <td>250.0</td>\n",
              "      <td>JFK</td>\n",
              "      <td>CLT</td>\n",
              "      <td>274</td>\n",
              "      <td>CLT</td>\n",
              "      <td>2017-03-12</td>\n",
              "      <td>13</td>\n",
              "      <td>40</td>\n",
              "      <td>326</td>\n",
              "      <td>2.8</td>\n",
              "      <td>6</td>\n",
              "      <td>1030</td>\n",
              "      <td>89</td>\n",
              "      <td>29</td>\n",
              "      <td>16</td>\n",
              "      <td>34</td>\n",
              "      <td>27</td>\n",
              "      <td>83</td>\n",
              "      <td>1000</td>\n",
              "      <td>272</td>\n",
              "      <td>JFK</td>\n",
              "      <td>2017-03-12</td>\n",
              "      <td>21</td>\n",
              "      <td>303</td>\n",
              "      <td>113</td>\n",
              "      <td>0.0</td>\n",
              "      <td>10</td>\n",
              "      <td>1026</td>\n",
              "      <td>2</td>\n",
              "      <td>9</td>\n",
              "      <td>26</td>\n",
              "      <td>22</td>\n",
              "      <td>8</td>\n",
              "      <td>60</td>\n",
              "      <td>800</td>\n",
              "    </tr>\n",
              "    <tr>\n",
              "      <th>61174</th>\n",
              "      <td>61174</td>\n",
              "      <td>1581007</td>\n",
              "      <td>128297</td>\n",
              "      <td>2017-06-30</td>\n",
              "      <td>2</td>\n",
              "      <td>2017</td>\n",
              "      <td>6</td>\n",
              "      <td>30</td>\n",
              "      <td>1210.0</td>\n",
              "      <td>1.0</td>\n",
              "      <td>1100</td>\n",
              "      <td>60.0</td>\n",
              "      <td>12889</td>\n",
              "      <td>14771</td>\n",
              "      <td>1345.0</td>\n",
              "      <td>1200</td>\n",
              "      <td>1.0</td>\n",
              "      <td>65.0</td>\n",
              "      <td>LAS</td>\n",
              "      <td>SFO</td>\n",
              "      <td>708</td>\n",
              "      <td>SFO</td>\n",
              "      <td>2017-06-30</td>\n",
              "      <td>28</td>\n",
              "      <td>273</td>\n",
              "      <td>113</td>\n",
              "      <td>0.0</td>\n",
              "      <td>10</td>\n",
              "      <td>1014</td>\n",
              "      <td>0</td>\n",
              "      <td>52</td>\n",
              "      <td>30</td>\n",
              "      <td>62</td>\n",
              "      <td>63</td>\n",
              "      <td>65</td>\n",
              "      <td>1200</td>\n",
              "      <td>707</td>\n",
              "      <td>LAS</td>\n",
              "      <td>2017-06-30</td>\n",
              "      <td>7</td>\n",
              "      <td>66</td>\n",
              "      <td>113</td>\n",
              "      <td>0.0</td>\n",
              "      <td>10</td>\n",
              "      <td>1009</td>\n",
              "      <td>0</td>\n",
              "      <td>20</td>\n",
              "      <td>10</td>\n",
              "      <td>94</td>\n",
              "      <td>96</td>\n",
              "      <td>6</td>\n",
              "      <td>1100</td>\n",
              "    </tr>\n",
              "    <tr>\n",
              "      <th>61175</th>\n",
              "      <td>61175</td>\n",
              "      <td>65129</td>\n",
              "      <td>123781</td>\n",
              "      <td>2016-01-17</td>\n",
              "      <td>1</td>\n",
              "      <td>2016</td>\n",
              "      <td>1</td>\n",
              "      <td>17</td>\n",
              "      <td>25.0</td>\n",
              "      <td>1.0</td>\n",
              "      <td>2200</td>\n",
              "      <td>150.0</td>\n",
              "      <td>13930</td>\n",
              "      <td>14107</td>\n",
              "      <td>246.0</td>\n",
              "      <td>0</td>\n",
              "      <td>1.0</td>\n",
              "      <td>131.0</td>\n",
              "      <td>ORD</td>\n",
              "      <td>PHX</td>\n",
              "      <td>384</td>\n",
              "      <td>PHX</td>\n",
              "      <td>2016-01-17</td>\n",
              "      <td>3</td>\n",
              "      <td>59</td>\n",
              "      <td>119</td>\n",
              "      <td>0.0</td>\n",
              "      <td>10</td>\n",
              "      <td>1021</td>\n",
              "      <td>85</td>\n",
              "      <td>37</td>\n",
              "      <td>5</td>\n",
              "      <td>49</td>\n",
              "      <td>50</td>\n",
              "      <td>41</td>\n",
              "      <td>0</td>\n",
              "      <td>406</td>\n",
              "      <td>ORD</td>\n",
              "      <td>2016-01-17</td>\n",
              "      <td>25</td>\n",
              "      <td>288</td>\n",
              "      <td>116</td>\n",
              "      <td>0.0</td>\n",
              "      <td>10</td>\n",
              "      <td>1026</td>\n",
              "      <td>28</td>\n",
              "      <td>-7</td>\n",
              "      <td>34</td>\n",
              "      <td>0</td>\n",
              "      <td>-19</td>\n",
              "      <td>71</td>\n",
              "      <td>2200</td>\n",
              "    </tr>\n",
              "  </tbody>\n",
              "</table>\n",
              "<p>61176 rows × 52 columns</p>\n",
              "</div>\n",
              "      <button class=\"colab-df-convert\" onclick=\"convertToInteractive('df-c00eb0e6-637d-4651-b0d6-8ecf525431dc')\"\n",
              "              title=\"Convert this dataframe to an interactive table.\"\n",
              "              style=\"display:none;\">\n",
              "        \n",
              "  <svg xmlns=\"http://www.w3.org/2000/svg\" height=\"24px\"viewBox=\"0 0 24 24\"\n",
              "       width=\"24px\">\n",
              "    <path d=\"M0 0h24v24H0V0z\" fill=\"none\"/>\n",
              "    <path d=\"M18.56 5.44l.94 2.06.94-2.06 2.06-.94-2.06-.94-.94-2.06-.94 2.06-2.06.94zm-11 1L8.5 8.5l.94-2.06 2.06-.94-2.06-.94L8.5 2.5l-.94 2.06-2.06.94zm10 10l.94 2.06.94-2.06 2.06-.94-2.06-.94-.94-2.06-.94 2.06-2.06.94z\"/><path d=\"M17.41 7.96l-1.37-1.37c-.4-.4-.92-.59-1.43-.59-.52 0-1.04.2-1.43.59L10.3 9.45l-7.72 7.72c-.78.78-.78 2.05 0 2.83L4 21.41c.39.39.9.59 1.41.59.51 0 1.02-.2 1.41-.59l7.78-7.78 2.81-2.81c.8-.78.8-2.07 0-2.86zM5.41 20L4 18.59l7.72-7.72 1.47 1.35L5.41 20z\"/>\n",
              "  </svg>\n",
              "      </button>\n",
              "      \n",
              "  <style>\n",
              "    .colab-df-container {\n",
              "      display:flex;\n",
              "      flex-wrap:wrap;\n",
              "      gap: 12px;\n",
              "    }\n",
              "\n",
              "    .colab-df-convert {\n",
              "      background-color: #E8F0FE;\n",
              "      border: none;\n",
              "      border-radius: 50%;\n",
              "      cursor: pointer;\n",
              "      display: none;\n",
              "      fill: #1967D2;\n",
              "      height: 32px;\n",
              "      padding: 0 0 0 0;\n",
              "      width: 32px;\n",
              "    }\n",
              "\n",
              "    .colab-df-convert:hover {\n",
              "      background-color: #E2EBFA;\n",
              "      box-shadow: 0px 1px 2px rgba(60, 64, 67, 0.3), 0px 1px 3px 1px rgba(60, 64, 67, 0.15);\n",
              "      fill: #174EA6;\n",
              "    }\n",
              "\n",
              "    [theme=dark] .colab-df-convert {\n",
              "      background-color: #3B4455;\n",
              "      fill: #D2E3FC;\n",
              "    }\n",
              "\n",
              "    [theme=dark] .colab-df-convert:hover {\n",
              "      background-color: #434B5C;\n",
              "      box-shadow: 0px 1px 3px 1px rgba(0, 0, 0, 0.15);\n",
              "      filter: drop-shadow(0px 1px 2px rgba(0, 0, 0, 0.3));\n",
              "      fill: #FFFFFF;\n",
              "    }\n",
              "  </style>\n",
              "\n",
              "      <script>\n",
              "        const buttonEl =\n",
              "          document.querySelector('#df-c00eb0e6-637d-4651-b0d6-8ecf525431dc button.colab-df-convert');\n",
              "        buttonEl.style.display =\n",
              "          google.colab.kernel.accessAllowed ? 'block' : 'none';\n",
              "\n",
              "        async function convertToInteractive(key) {\n",
              "          const element = document.querySelector('#df-c00eb0e6-637d-4651-b0d6-8ecf525431dc');\n",
              "          const dataTable =\n",
              "            await google.colab.kernel.invokeFunction('convertToInteractive',\n",
              "                                                     [key], {});\n",
              "          if (!dataTable) return;\n",
              "\n",
              "          const docLinkHtml = 'Like what you see? Visit the ' +\n",
              "            '<a target=\"_blank\" href=https://colab.research.google.com/notebooks/data_table.ipynb>data table notebook</a>'\n",
              "            + ' to learn more about interactive tables.';\n",
              "          element.innerHTML = '';\n",
              "          dataTable['output_type'] = 'display_data';\n",
              "          await google.colab.output.renderOutput(dataTable, element);\n",
              "          const docLink = document.createElement('div');\n",
              "          docLink.innerHTML = docLinkHtml;\n",
              "          element.appendChild(docLink);\n",
              "        }\n",
              "      </script>\n",
              "    </div>\n",
              "  </div>\n",
              "  "
            ],
            "text/plain": [
              "       Unnamed: 0  Unnamed: 0.1  Unnamed: 0_x  ... WindChillF_y  humidity_y  time_y\n",
              "0               0       1605368        380364  ...           83          70    2200\n",
              "1               1        858232         44803  ...           80          71     800\n",
              "2               2       1580428        128154  ...           64          84     900\n",
              "3               3        963048        145973  ...           34          67    1100\n",
              "4               4        714661        195957  ...           79          82    1800\n",
              "...           ...           ...           ...  ...          ...         ...     ...\n",
              "61171       61171        620688        134496  ...           79          64    1000\n",
              "61172       61172        185528         28217  ...           66          43    2000\n",
              "61173       61173       1306038        359295  ...            8          60     800\n",
              "61174       61174       1581007        128297  ...           96           6    1100\n",
              "61175       61175         65129        123781  ...          -19          71    2200\n",
              "\n",
              "[61176 rows x 52 columns]"
            ]
          },
          "metadata": {},
          "execution_count": 4
        }
      ]
    },
    {
      "cell_type": "code",
      "source": [
        "X=data.drop([\"ArrDelayMinutes\",\n",
        "                \"ArrTime\",\n",
        "                \"ArrDel15\",\n",
        "             \"DepDel15\",\n",
        "                 \"Unnamed: 0_x\",\n",
        "                 \"Unnamed: 0_y\",\n",
        "                 \"Unnamed: 0.1\",\n",
        "                \"Origin\",\n",
        "                \"Dest\",\n",
        "                \"airport_x\",\n",
        "                \"airport_y\",\n",
        "                \"FlightDate\",\n",
        "                \"date_y\",\n",
        "                \"date_x\",\n",
        "                \"time_x\",\n",
        "                \"time_y\",\n",
        "                \"windspeedKmph_y\",\n",
        "                \"winddirDegree_y\",\n",
        "                \"weatherCode_y\",\n",
        "                \"precipMM_y\",\n",
        "                \"visibility_y\",\n",
        "                \"pressure_y\",\n",
        "                \"cloudcover_y\",\n",
        "                \"DewPointF_y\",\n",
        "                \"WindGustKmph_y\",\n",
        "                \"tempF_y\",\n",
        "               \"WindChillF_y\",\n",
        "               \"humidity_y\",\n",
        "           \"Unnamed: 0\",'Unnamed: 0.1.1'],axis=1)"
      ],
      "metadata": {
        "id": "5kY0HbbSSR54"
      },
      "execution_count": 8,
      "outputs": []
    },
    {
      "cell_type": "code",
      "source": [
        "Y=data.ArrDelayMinutes"
      ],
      "metadata": {
        "id": "72VVK3K_THiZ"
      },
      "execution_count": 10,
      "outputs": []
    },
    {
      "cell_type": "code",
      "source": [
        "X_train, X_test, Y_train, Y_test = train_test_split(X, Y, test_size = 0.25, random_state = 19) "
      ],
      "metadata": {
        "id": "4gXJUlBOTLRb"
      },
      "execution_count": 13,
      "outputs": []
    },
    {
      "cell_type": "code",
      "source": [
        "len(X_train)"
      ],
      "metadata": {
        "colab": {
          "base_uri": "https://localhost:8080/"
        },
        "id": "k1EiEoOLTfHK",
        "outputId": "deebe0be-ab92-4b73-de28-59f66e6bbb83"
      },
      "execution_count": 14,
      "outputs": [
        {
          "output_type": "execute_result",
          "data": {
            "text/plain": [
              "45882"
            ]
          },
          "metadata": {},
          "execution_count": 14
        }
      ]
    },
    {
      "cell_type": "code",
      "source": [
        "legr=LinearRegression().fit(X_train,Y_train)"
      ],
      "metadata": {
        "id": "mKtKRBVVTl2B"
      },
      "execution_count": 17,
      "outputs": []
    },
    {
      "cell_type": "code",
      "source": [
        "y_predlegr=legr.predict(X_test)"
      ],
      "metadata": {
        "id": "sMNscsCDUlwE"
      },
      "execution_count": 52,
      "outputs": []
    },
    {
      "cell_type": "code",
      "source": [
        "print(\"mean_squared_error   \" , np.sqrt(mean_squared_error(Y_test, y_predlegr)))\n",
        "print(\"mean_absolute_error  \" , mean_absolute_error(Y_test, y_predlegr))\n",
        "print(\"R2score    \" , r2_score(Y_test,y_predlegr))"
      ],
      "metadata": {
        "colab": {
          "base_uri": "https://localhost:8080/"
        },
        "id": "01xUwag7Uv0z",
        "outputId": "c3996c5e-a675-4369-bf5e-a62e679965f3"
      },
      "execution_count": 53,
      "outputs": [
        {
          "output_type": "stream",
          "name": "stdout",
          "text": [
            "mean_squared_error    19.1171213168279\n",
            "mean_absolute_error   13.293253421306433\n",
            "R2score     0.9508695809752931\n"
          ]
        }
      ]
    },
    {
      "cell_type": "code",
      "source": [
        "    plt.scatter(range(len(Y_test[:100])), Y_test[:100], color='blue')\n",
        "    plt.scatter(range(len(y_predlegr[:100])), y_predlegr[:100], color='red')"
      ],
      "metadata": {
        "colab": {
          "base_uri": "https://localhost:8080/",
          "height": 283
        },
        "id": "51PgnM1tmSA5",
        "outputId": "59ea8d95-4df0-487c-a6b7-51fdaf9029dd"
      },
      "execution_count": 65,
      "outputs": [
        {
          "output_type": "execute_result",
          "data": {
            "text/plain": [
              "<matplotlib.collections.PathCollection at 0x7f0257721690>"
            ]
          },
          "metadata": {},
          "execution_count": 65
        },
        {
          "output_type": "display_data",
          "data": {
            "image/png": "[encoded data removed]",
            "text/plain": [
              "<Figure size 432x288 with 1 Axes>"
            ]
          },
          "metadata": {
            "needs_background": "light"
          }
        }
      ]
    },
    {
      "cell_type": "code",
      "source": [
        "xgbb=xgb.XGBRegressor().fit(X_train,Y_train)"
      ],
      "metadata": {
        "colab": {
          "base_uri": "https://localhost:8080/"
        },
        "id": "pU3_d3DUZQ0y",
        "outputId": "8829b8f1-c0a2-41eb-e0d5-c1ad85bbb90a"
      },
      "execution_count": 26,
      "outputs": [
        {
          "output_type": "stream",
          "name": "stdout",
          "text": [
            "[16:41:52] WARNING: /workspace/src/objective/regression_obj.cu:152: reg:linear is now deprecated in favor of reg:squarederror.\n"
          ]
        }
      ]
    },
    {
      "cell_type": "code",
      "source": [
        "y_predxg=xgbb.predict(X_test)"
      ],
      "metadata": {
        "id": "Q7_DD3wGU70a"
      },
      "execution_count": 27,
      "outputs": []
    },
    {
      "cell_type": "code",
      "source": [
        "print(\"mean_squared_error   \" , np.sqrt(mean_squared_error(Y_test, y_predxg)))\n",
        "print(\"mean_absolute_error  \" , mean_absolute_error(Y_test, y_predxg))\n",
        "print(\"R2score    \" , r2_score(Y_test,y_predxg))"
      ],
      "metadata": {
        "colab": {
          "base_uri": "https://localhost:8080/"
        },
        "id": "486uRJU1WHy5",
        "outputId": "815f6d7b-7643-4394-9709-483b88178e85"
      },
      "execution_count": 28,
      "outputs": [
        {
          "output_type": "stream",
          "name": "stdout",
          "text": [
            "mean_squared_error    18.66421353455383\n",
            "mean_absolute_error   13.16443155800827\n",
            "R2score     0.9531699237590863\n"
          ]
        }
      ]
    },
    {
      "cell_type": "code",
      "source": [
        "    plt.scatter(range(len(Y_test[:100])), Y_test[:100], color='blue')\n",
        "    plt.scatter(range(len(y_predxg[:100])), y_predxg[:100], color='red')"
      ],
      "metadata": {
        "colab": {
          "base_uri": "https://localhost:8080/",
          "height": 283
        },
        "id": "Wvj0DaJymKTR",
        "outputId": "b40deb0f-5136-41ca-a465-d7548494a522"
      },
      "execution_count": 64,
      "outputs": [
        {
          "output_type": "execute_result",
          "data": {
            "text/plain": [
              "<matplotlib.collections.PathCollection at 0x7f0257c30c90>"
            ]
          },
          "metadata": {},
          "execution_count": 64
        },
        {
          "output_type": "display_data",
          "data": {
            "image/png": "[encoded data removed]",
            "text/plain": [
              "<Figure size 432x288 with 1 Axes>"
            ]
          },
          "metadata": {
            "needs_background": "light"
          }
        }
      ]
    },
    {
      "cell_type": "code",
      "source": [
        "\n",
        "plt.scatter(Y_test[:50], y_predxg[:50], c='crimson')\n",
        "plt.yscale('log')\n",
        "plt.xscale('log')\n",
        "\n",
        "p1 = max(max(y_predxg), max(Y_test))\n",
        "p2 = min(min(y_predxg), min(Y_test))\n",
        "plt.plot([p1, p2], [p1, p2], 'b-')\n",
        "plt.xlabel('True Values', fontsize=15)\n",
        "plt.ylabel('Predictions', fontsize=15)\n",
        "plt.axis('equal')\n",
        "plt.show()"
      ],
      "metadata": {
        "colab": {
          "base_uri": "https://localhost:8080/",
          "height": 288
        },
        "id": "IAW1bKMLiwmp",
        "outputId": "370341fc-0dd7-4bb6-c205-d505e47fe0af"
      },
      "execution_count": 49,
      "outputs": [
        {
          "output_type": "display_data",
          "data": {
            "image/png": "[encoded data removed]",
            "text/plain": [
              "<Figure size 432x288 with 1 Axes>"
            ]
          },
          "metadata": {
            "needs_background": "light"
          }
        }
      ]
    },
    {
      "cell_type": "code",
      "source": [
        "rf=RandomForestRegressor(n_estimators=100).fit(X_train,Y_train)"
      ],
      "metadata": {
        "id": "4rmRRnAuat7D"
      },
      "execution_count": 29,
      "outputs": []
    },
    {
      "cell_type": "code",
      "source": [
        "y_predrf=rf.predict(X_test)"
      ],
      "metadata": {
        "id": "zM8l1M21a4DZ"
      },
      "execution_count": 30,
      "outputs": []
    },
    {
      "cell_type": "code",
      "source": [
        "print(\"mean_squared_error   \" , np.sqrt(mean_squared_error(Y_test, y_predrf)))\n",
        "print(\"mean_absolute_error  \" , mean_absolute_error(Y_test, y_predrf))\n",
        "print(\"R2score    \" , r2_score(Y_test,y_predrf))"
      ],
      "metadata": {
        "colab": {
          "base_uri": "https://localhost:8080/"
        },
        "id": "czXOUlPta7kd",
        "outputId": "b04c1883-8c45-4d61-f894-f6651bd455c4"
      },
      "execution_count": 31,
      "outputs": [
        {
          "output_type": "stream",
          "name": "stdout",
          "text": [
            "mean_squared_error    19.042111038996236\n",
            "mean_absolute_error   13.652993657643519\n",
            "R2score     0.9512543728380054\n"
          ]
        }
      ]
    },
    {
      "cell_type": "code",
      "source": [
        "    plt.scatter(range(len(Y_test[:100])), Y_test[:100], color='blue')\n",
        "    plt.scatter(range(len(y_predrf[:100])), y_predrf[:100], color='red')"
      ],
      "metadata": {
        "colab": {
          "base_uri": "https://localhost:8080/",
          "height": 283
        },
        "id": "bOkKLQ3ua-4v",
        "outputId": "1ce92f0f-7187-495b-c514-aea406e1a093"
      },
      "execution_count": 63,
      "outputs": [
        {
          "output_type": "execute_result",
          "data": {
            "text/plain": [
              "<matplotlib.collections.PathCollection at 0x7f025dfacf50>"
            ]
          },
          "metadata": {},
          "execution_count": 63
        },
        {
          "output_type": "display_data",
          "data": {
            "image/png": "[encoded data removed]",
            "text/plain": [
              "<Figure size 432x288 with 1 Axes>"
            ]
          },
          "metadata": {
            "needs_background": "light"
          }
        }
      ]
    },
    {
      "cell_type": "code",
      "source": [
        "\n",
        "plt.scatter(Y_test[:50], y_predrf[:50], c='crimson')\n",
        "plt.yscale('log')\n",
        "plt.xscale('log')\n",
        "\n",
        "p1 = max(max(y_predrf), max(Y_test))\n",
        "p2 = min(min(y_predrf), min(Y_test))\n",
        "plt.plot([p1, p2], [p1, p2], 'b-')\n",
        "plt.xlabel('True Values', fontsize=15)\n",
        "plt.ylabel('Predictions', fontsize=15)\n",
        "plt.axis('equal')\n",
        "plt.show()"
      ],
      "metadata": {
        "colab": {
          "base_uri": "https://localhost:8080/",
          "height": 288
        },
        "id": "RFbtGaEIcERb",
        "outputId": "65c352b9-11d5-4e1c-8e2d-18a384c42d1d"
      },
      "execution_count": 58,
      "outputs": [
        {
          "output_type": "display_data",
          "data": {
            "image/png": "[encoded data removed]",
            "text/plain": [
              "<Figure size 432x288 with 1 Axes>"
            ]
          },
          "metadata": {
            "needs_background": "light"
          }
        }
      ]
    },
    {
      "cell_type": "code",
      "source": [
        "Y_test[:10]"
      ],
      "metadata": {
        "colab": {
          "base_uri": "https://localhost:8080/"
        },
        "id": "yw4_R1BodXpF",
        "outputId": "cc69e848-c1a0-4a66-e549-b862b5c5b396"
      },
      "execution_count": 40,
      "outputs": [
        {
          "output_type": "execute_result",
          "data": {
            "text/plain": [
              "47749     24.0\n",
              "6931      37.0\n",
              "37610     12.0\n",
              "36516     99.0\n",
              "3477      50.0\n",
              "20642     55.0\n",
              "12882     15.0\n",
              "56443     77.0\n",
              "44091     59.0\n",
              "23862    239.0\n",
              "Name: ArrDelayMinutes, dtype: float64"
            ]
          },
          "metadata": {},
          "execution_count": 40
        }
      ]
    },
    {
      "cell_type": "code",
      "source": [
        "y_predlegr[:10]"
      ],
      "metadata": {
        "colab": {
          "base_uri": "https://localhost:8080/"
        },
        "id": "VPU2rqD-eHhF",
        "outputId": "b947a486-4a55-40f2-a1df-0ed9a3cf5e6e"
      },
      "execution_count": 56,
      "outputs": [
        {
          "output_type": "execute_result",
          "data": {
            "text/plain": [
              "array([ 15.80731489,  35.7616594 ,   3.95403593, 103.26536127,\n",
              "        42.04896131,  66.17815932,  -0.34701847,  69.7693388 ,\n",
              "        79.53207811, 243.77191535])"
            ]
          },
          "metadata": {},
          "execution_count": 56
        }
      ]
    }
  ]
}