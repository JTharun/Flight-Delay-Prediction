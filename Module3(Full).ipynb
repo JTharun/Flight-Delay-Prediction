{
  "nbformat": 4,
  "nbformat_minor": 0,
  "metadata": {
    "colab": {
      "name": "Module3(Full).ipynb",
      "provenance": [],
      "collapsed_sections": []
    },
    "kernelspec": {
      "name": "python3",
      "display_name": "Python 3"
    },
    "language_info": {
      "name": "python"
    }
  },
  "cells": [
    {
      "cell_type": "code",
      "execution_count": 1,
      "metadata": {
        "id": "Wzh3-PgURFvY"
      },
      "outputs": [],
      "source": [
        "import pandas as pd\n",
        "from sklearn.model_selection import train_test_split\n",
        "from sklearn.linear_model import LinearRegression\n",
        "from sklearn.metrics import mean_squared_error\n",
        "from sklearn.metrics import mean_absolute_error\n",
        "from sklearn.metrics import r2_score\n",
        "from sklearn.ensemble import ExtraTreesRegressor\n",
        "import xgboost as xgb\n",
        "from sklearn.ensemble import RandomForestRegressor\n",
        "import numpy as np\n",
        "import matplotlib.pyplot as plt"
      ]
    },
    {
      "cell_type": "code",
      "source": [
        "file1=open('/content/drive/MyDrive/RegressionDataTuned.csv')\n",
        "file2=open('/content/drive/MyDrive/RegressionFullDataSet.csv')"
      ],
      "metadata": {
        "id": "66a4D7dRSAZ4"
      },
      "execution_count": 2,
      "outputs": []
    },
    {
      "cell_type": "code",
      "source": [
        "data_class=pd.read_csv(file1)\n"
      ],
      "metadata": {
        "id": "2cTwHgYVSMd_"
      },
      "execution_count": 3,
      "outputs": []
    },
    {
      "cell_type": "code",
      "source": [
        "data_full=pd.read_csv(file2)\n"
      ],
      "metadata": {
        "id": "lhwrKeHHSQEq"
      },
      "execution_count": 4,
      "outputs": []
    },
    {
      "cell_type": "code",
      "source": [
        "data_full=data_full.transpose()"
      ],
      "metadata": {
        "id": "YQiz00JxUx9l"
      },
      "execution_count": null,
      "outputs": []
    },
    {
      "cell_type": "code",
      "source": [
        "data_full"
      ],
      "metadata": {
        "colab": {
          "base_uri": "https://localhost:8080/",
          "height": 505
        },
        "id": "oJ1crMy7VC_z",
        "outputId": "5f360c44-960b-4580-cb08-47dbd66a8c1d"
      },
      "execution_count": 5,
      "outputs": [
        {
          "output_type": "execute_result",
          "data": {
            "text/html": [
              "\n",
              "  <div id=\"df-819d8069-2488-4051-a6cf-8641a9c03e8a\">\n",
              "    <div class=\"colab-df-container\">\n",
              "      <div>\n",
              "<style scoped>\n",
              "    .dataframe tbody tr th:only-of-type {\n",
              "        vertical-align: middle;\n",
              "    }\n",
              "\n",
              "    .dataframe tbody tr th {\n",
              "        vertical-align: top;\n",
              "    }\n",
              "\n",
              "    .dataframe thead th {\n",
              "        text-align: right;\n",
              "    }\n",
              "</style>\n",
              "<table border=\"1\" class=\"dataframe\">\n",
              "  <thead>\n",
              "    <tr style=\"text-align: right;\">\n",
              "      <th></th>\n",
              "      <th>Unnamed: 0</th>\n",
              "      <th>Unnamed: 0.1</th>\n",
              "      <th>Unnamed: 0_x</th>\n",
              "      <th>FlightDate</th>\n",
              "      <th>Quarter</th>\n",
              "      <th>Year</th>\n",
              "      <th>Month</th>\n",
              "      <th>DayofMonth</th>\n",
              "      <th>DepTime</th>\n",
              "      <th>DepDel15</th>\n",
              "      <th>CRSDepTime</th>\n",
              "      <th>DepDelayMinutes</th>\n",
              "      <th>OriginAirportID</th>\n",
              "      <th>DestAirportID</th>\n",
              "      <th>ArrTime</th>\n",
              "      <th>CRSArrTime</th>\n",
              "      <th>ArrDel15</th>\n",
              "      <th>ArrDelayMinutes</th>\n",
              "      <th>Origin</th>\n",
              "      <th>Dest</th>\n",
              "      <th>Unnamed: 0_y</th>\n",
              "      <th>airport_x</th>\n",
              "      <th>date_x</th>\n",
              "      <th>windspeedKmph_x</th>\n",
              "      <th>winddirDegree_x</th>\n",
              "      <th>weatherCode_x</th>\n",
              "      <th>precipMM_x</th>\n",
              "      <th>visibility_x</th>\n",
              "      <th>pressure_x</th>\n",
              "      <th>cloudcover_x</th>\n",
              "      <th>DewPointF_x</th>\n",
              "      <th>WindGustKmph_x</th>\n",
              "      <th>tempF_x</th>\n",
              "      <th>WindChillF_x</th>\n",
              "      <th>humidity_x</th>\n",
              "      <th>time_x</th>\n",
              "      <th>Unnamed: 0.1.1</th>\n",
              "      <th>airport_y</th>\n",
              "      <th>date_y</th>\n",
              "      <th>windspeedKmph_y</th>\n",
              "      <th>winddirDegree_y</th>\n",
              "      <th>weatherCode_y</th>\n",
              "      <th>precipMM_y</th>\n",
              "      <th>visibility_y</th>\n",
              "      <th>pressure_y</th>\n",
              "      <th>cloudcover_y</th>\n",
              "      <th>DewPointF_y</th>\n",
              "      <th>WindGustKmph_y</th>\n",
              "      <th>tempF_y</th>\n",
              "      <th>WindChillF_y</th>\n",
              "      <th>humidity_y</th>\n",
              "      <th>time_y</th>\n",
              "      <th>TargetDelay</th>\n",
              "    </tr>\n",
              "  </thead>\n",
              "  <tbody>\n",
              "    <tr>\n",
              "      <th>0</th>\n",
              "      <td>0</td>\n",
              "      <td>6</td>\n",
              "      <td>356840</td>\n",
              "      <td>2016-01-01</td>\n",
              "      <td>1</td>\n",
              "      <td>2016</td>\n",
              "      <td>1</td>\n",
              "      <td>1</td>\n",
              "      <td>745.0</td>\n",
              "      <td>1.0</td>\n",
              "      <td>700</td>\n",
              "      <td>40.0</td>\n",
              "      <td>14747</td>\n",
              "      <td>12889</td>\n",
              "      <td>1007.0</td>\n",
              "      <td>900</td>\n",
              "      <td>1.0</td>\n",
              "      <td>37.0</td>\n",
              "      <td>SEA</td>\n",
              "      <td>LAS</td>\n",
              "      <td>9</td>\n",
              "      <td>LAS</td>\n",
              "      <td>2016-01-01</td>\n",
              "      <td>8</td>\n",
              "      <td>241</td>\n",
              "      <td>113</td>\n",
              "      <td>0.0</td>\n",
              "      <td>10</td>\n",
              "      <td>1029</td>\n",
              "      <td>0</td>\n",
              "      <td>13</td>\n",
              "      <td>13</td>\n",
              "      <td>29</td>\n",
              "      <td>21</td>\n",
              "      <td>56</td>\n",
              "      <td>900</td>\n",
              "      <td>7</td>\n",
              "      <td>SEA</td>\n",
              "      <td>2016-01-01</td>\n",
              "      <td>7</td>\n",
              "      <td>107</td>\n",
              "      <td>113</td>\n",
              "      <td>0.0</td>\n",
              "      <td>10</td>\n",
              "      <td>1030</td>\n",
              "      <td>0</td>\n",
              "      <td>23</td>\n",
              "      <td>8</td>\n",
              "      <td>34</td>\n",
              "      <td>29</td>\n",
              "      <td>66</td>\n",
              "      <td>700</td>\n",
              "      <td>1</td>\n",
              "    </tr>\n",
              "    <tr>\n",
              "      <th>1</th>\n",
              "      <td>1</td>\n",
              "      <td>7</td>\n",
              "      <td>145879</td>\n",
              "      <td>2016-01-01</td>\n",
              "      <td>1</td>\n",
              "      <td>2016</td>\n",
              "      <td>1</td>\n",
              "      <td>1</td>\n",
              "      <td>759.0</td>\n",
              "      <td>1.0</td>\n",
              "      <td>700</td>\n",
              "      <td>35.0</td>\n",
              "      <td>14747</td>\n",
              "      <td>14771</td>\n",
              "      <td>1010.0</td>\n",
              "      <td>900</td>\n",
              "      <td>1.0</td>\n",
              "      <td>24.0</td>\n",
              "      <td>SEA</td>\n",
              "      <td>SFO</td>\n",
              "      <td>9</td>\n",
              "      <td>SFO</td>\n",
              "      <td>2016-01-01</td>\n",
              "      <td>19</td>\n",
              "      <td>72</td>\n",
              "      <td>113</td>\n",
              "      <td>0.0</td>\n",
              "      <td>10</td>\n",
              "      <td>1023</td>\n",
              "      <td>0</td>\n",
              "      <td>25</td>\n",
              "      <td>30</td>\n",
              "      <td>35</td>\n",
              "      <td>25</td>\n",
              "      <td>70</td>\n",
              "      <td>900</td>\n",
              "      <td>7</td>\n",
              "      <td>SEA</td>\n",
              "      <td>2016-01-01</td>\n",
              "      <td>7</td>\n",
              "      <td>107</td>\n",
              "      <td>113</td>\n",
              "      <td>0.0</td>\n",
              "      <td>10</td>\n",
              "      <td>1030</td>\n",
              "      <td>0</td>\n",
              "      <td>23</td>\n",
              "      <td>8</td>\n",
              "      <td>34</td>\n",
              "      <td>29</td>\n",
              "      <td>66</td>\n",
              "      <td>700</td>\n",
              "      <td>1</td>\n",
              "    </tr>\n",
              "    <tr>\n",
              "      <th>2</th>\n",
              "      <td>2</td>\n",
              "      <td>12</td>\n",
              "      <td>37814</td>\n",
              "      <td>2016-01-01</td>\n",
              "      <td>1</td>\n",
              "      <td>2016</td>\n",
              "      <td>1</td>\n",
              "      <td>1</td>\n",
              "      <td>1400.0</td>\n",
              "      <td>1.0</td>\n",
              "      <td>1300</td>\n",
              "      <td>60.0</td>\n",
              "      <td>13303</td>\n",
              "      <td>11057</td>\n",
              "      <td>1559.0</td>\n",
              "      <td>1500</td>\n",
              "      <td>1.0</td>\n",
              "      <td>51.0</td>\n",
              "      <td>MIA</td>\n",
              "      <td>CLT</td>\n",
              "      <td>15</td>\n",
              "      <td>CLT</td>\n",
              "      <td>2016-01-01</td>\n",
              "      <td>8</td>\n",
              "      <td>298</td>\n",
              "      <td>122</td>\n",
              "      <td>0.0</td>\n",
              "      <td>10</td>\n",
              "      <td>1022</td>\n",
              "      <td>100</td>\n",
              "      <td>42</td>\n",
              "      <td>10</td>\n",
              "      <td>51</td>\n",
              "      <td>49</td>\n",
              "      <td>73</td>\n",
              "      <td>1500</td>\n",
              "      <td>13</td>\n",
              "      <td>MIA</td>\n",
              "      <td>2016-01-01</td>\n",
              "      <td>11</td>\n",
              "      <td>124</td>\n",
              "      <td>122</td>\n",
              "      <td>0.0</td>\n",
              "      <td>10</td>\n",
              "      <td>1020</td>\n",
              "      <td>65</td>\n",
              "      <td>73</td>\n",
              "      <td>13</td>\n",
              "      <td>81</td>\n",
              "      <td>79</td>\n",
              "      <td>81</td>\n",
              "      <td>1300</td>\n",
              "      <td>1</td>\n",
              "    </tr>\n",
              "    <tr>\n",
              "      <th>3</th>\n",
              "      <td>3</td>\n",
              "      <td>13</td>\n",
              "      <td>887</td>\n",
              "      <td>2016-01-01</td>\n",
              "      <td>1</td>\n",
              "      <td>2016</td>\n",
              "      <td>1</td>\n",
              "      <td>1</td>\n",
              "      <td>1408.0</td>\n",
              "      <td>1.0</td>\n",
              "      <td>1300</td>\n",
              "      <td>38.0</td>\n",
              "      <td>13204</td>\n",
              "      <td>12478</td>\n",
              "      <td>1628.0</td>\n",
              "      <td>1600</td>\n",
              "      <td>1.0</td>\n",
              "      <td>25.0</td>\n",
              "      <td>MCO</td>\n",
              "      <td>JFK</td>\n",
              "      <td>16</td>\n",
              "      <td>JFK</td>\n",
              "      <td>2016-01-01</td>\n",
              "      <td>22</td>\n",
              "      <td>255</td>\n",
              "      <td>113</td>\n",
              "      <td>0.0</td>\n",
              "      <td>10</td>\n",
              "      <td>1015</td>\n",
              "      <td>0</td>\n",
              "      <td>32</td>\n",
              "      <td>26</td>\n",
              "      <td>41</td>\n",
              "      <td>32</td>\n",
              "      <td>74</td>\n",
              "      <td>1600</td>\n",
              "      <td>13</td>\n",
              "      <td>MCO</td>\n",
              "      <td>2016-01-01</td>\n",
              "      <td>8</td>\n",
              "      <td>227</td>\n",
              "      <td>122</td>\n",
              "      <td>0.1</td>\n",
              "      <td>8</td>\n",
              "      <td>1019</td>\n",
              "      <td>79</td>\n",
              "      <td>72</td>\n",
              "      <td>10</td>\n",
              "      <td>79</td>\n",
              "      <td>78</td>\n",
              "      <td>83</td>\n",
              "      <td>1300</td>\n",
              "      <td>1</td>\n",
              "    </tr>\n",
              "    <tr>\n",
              "      <th>4</th>\n",
              "      <td>4</td>\n",
              "      <td>36</td>\n",
              "      <td>221121</td>\n",
              "      <td>2016-01-01</td>\n",
              "      <td>1</td>\n",
              "      <td>2016</td>\n",
              "      <td>1</td>\n",
              "      <td>1</td>\n",
              "      <td>1342.0</td>\n",
              "      <td>1.0</td>\n",
              "      <td>1200</td>\n",
              "      <td>61.0</td>\n",
              "      <td>13930</td>\n",
              "      <td>14771</td>\n",
              "      <td>1553.0</td>\n",
              "      <td>1500</td>\n",
              "      <td>1.0</td>\n",
              "      <td>22.0</td>\n",
              "      <td>ORD</td>\n",
              "      <td>SFO</td>\n",
              "      <td>15</td>\n",
              "      <td>SFO</td>\n",
              "      <td>2016-01-01</td>\n",
              "      <td>18</td>\n",
              "      <td>67</td>\n",
              "      <td>113</td>\n",
              "      <td>0.0</td>\n",
              "      <td>10</td>\n",
              "      <td>1022</td>\n",
              "      <td>0</td>\n",
              "      <td>28</td>\n",
              "      <td>21</td>\n",
              "      <td>47</td>\n",
              "      <td>41</td>\n",
              "      <td>50</td>\n",
              "      <td>1500</td>\n",
              "      <td>12</td>\n",
              "      <td>ORD</td>\n",
              "      <td>2016-01-01</td>\n",
              "      <td>22</td>\n",
              "      <td>253</td>\n",
              "      <td>122</td>\n",
              "      <td>0.0</td>\n",
              "      <td>10</td>\n",
              "      <td>1024</td>\n",
              "      <td>100</td>\n",
              "      <td>22</td>\n",
              "      <td>26</td>\n",
              "      <td>25</td>\n",
              "      <td>13</td>\n",
              "      <td>88</td>\n",
              "      <td>1200</td>\n",
              "      <td>1</td>\n",
              "    </tr>\n",
              "    <tr>\n",
              "      <th>...</th>\n",
              "      <td>...</td>\n",
              "      <td>...</td>\n",
              "      <td>...</td>\n",
              "      <td>...</td>\n",
              "      <td>...</td>\n",
              "      <td>...</td>\n",
              "      <td>...</td>\n",
              "      <td>...</td>\n",
              "      <td>...</td>\n",
              "      <td>...</td>\n",
              "      <td>...</td>\n",
              "      <td>...</td>\n",
              "      <td>...</td>\n",
              "      <td>...</td>\n",
              "      <td>...</td>\n",
              "      <td>...</td>\n",
              "      <td>...</td>\n",
              "      <td>...</td>\n",
              "      <td>...</td>\n",
              "      <td>...</td>\n",
              "      <td>...</td>\n",
              "      <td>...</td>\n",
              "      <td>...</td>\n",
              "      <td>...</td>\n",
              "      <td>...</td>\n",
              "      <td>...</td>\n",
              "      <td>...</td>\n",
              "      <td>...</td>\n",
              "      <td>...</td>\n",
              "      <td>...</td>\n",
              "      <td>...</td>\n",
              "      <td>...</td>\n",
              "      <td>...</td>\n",
              "      <td>...</td>\n",
              "      <td>...</td>\n",
              "      <td>...</td>\n",
              "      <td>...</td>\n",
              "      <td>...</td>\n",
              "      <td>...</td>\n",
              "      <td>...</td>\n",
              "      <td>...</td>\n",
              "      <td>...</td>\n",
              "      <td>...</td>\n",
              "      <td>...</td>\n",
              "      <td>...</td>\n",
              "      <td>...</td>\n",
              "      <td>...</td>\n",
              "      <td>...</td>\n",
              "      <td>...</td>\n",
              "      <td>...</td>\n",
              "      <td>...</td>\n",
              "      <td>...</td>\n",
              "      <td>...</td>\n",
              "    </tr>\n",
              "    <tr>\n",
              "      <th>379361</th>\n",
              "      <td>379361</td>\n",
              "      <td>1815378</td>\n",
              "      <td>414558</td>\n",
              "      <td>2017-09-08</td>\n",
              "      <td>3</td>\n",
              "      <td>2017</td>\n",
              "      <td>9</td>\n",
              "      <td>8</td>\n",
              "      <td>1827.0</td>\n",
              "      <td>1.0</td>\n",
              "      <td>1800</td>\n",
              "      <td>32.0</td>\n",
              "      <td>13303</td>\n",
              "      <td>10397</td>\n",
              "      <td>2049.0</td>\n",
              "      <td>2000</td>\n",
              "      <td>1.0</td>\n",
              "      <td>49.0</td>\n",
              "      <td>MIA</td>\n",
              "      <td>ATL</td>\n",
              "      <td>188</td>\n",
              "      <td>ATL</td>\n",
              "      <td>2017-09-08</td>\n",
              "      <td>11</td>\n",
              "      <td>80</td>\n",
              "      <td>113</td>\n",
              "      <td>0.0</td>\n",
              "      <td>10</td>\n",
              "      <td>1019</td>\n",
              "      <td>11</td>\n",
              "      <td>59</td>\n",
              "      <td>13</td>\n",
              "      <td>77</td>\n",
              "      <td>77</td>\n",
              "      <td>55</td>\n",
              "      <td>2000</td>\n",
              "      <td>186</td>\n",
              "      <td>MIA</td>\n",
              "      <td>2017-09-08</td>\n",
              "      <td>30</td>\n",
              "      <td>51</td>\n",
              "      <td>122</td>\n",
              "      <td>0.0</td>\n",
              "      <td>10</td>\n",
              "      <td>1009</td>\n",
              "      <td>84</td>\n",
              "      <td>75</td>\n",
              "      <td>36</td>\n",
              "      <td>86</td>\n",
              "      <td>86</td>\n",
              "      <td>70</td>\n",
              "      <td>1800</td>\n",
              "      <td>1</td>\n",
              "    </tr>\n",
              "    <tr>\n",
              "      <th>379362</th>\n",
              "      <td>379362</td>\n",
              "      <td>1815379</td>\n",
              "      <td>413458</td>\n",
              "      <td>2017-09-08</td>\n",
              "      <td>3</td>\n",
              "      <td>2017</td>\n",
              "      <td>9</td>\n",
              "      <td>8</td>\n",
              "      <td>927.0</td>\n",
              "      <td>1.0</td>\n",
              "      <td>600</td>\n",
              "      <td>207.0</td>\n",
              "      <td>13303</td>\n",
              "      <td>10397</td>\n",
              "      <td>1228.0</td>\n",
              "      <td>700</td>\n",
              "      <td>1.0</td>\n",
              "      <td>279.0</td>\n",
              "      <td>MIA</td>\n",
              "      <td>ATL</td>\n",
              "      <td>175</td>\n",
              "      <td>ATL</td>\n",
              "      <td>2017-09-08</td>\n",
              "      <td>7</td>\n",
              "      <td>31</td>\n",
              "      <td>113</td>\n",
              "      <td>0.0</td>\n",
              "      <td>10</td>\n",
              "      <td>1021</td>\n",
              "      <td>0</td>\n",
              "      <td>60</td>\n",
              "      <td>7</td>\n",
              "      <td>65</td>\n",
              "      <td>65</td>\n",
              "      <td>83</td>\n",
              "      <td>700</td>\n",
              "      <td>174</td>\n",
              "      <td>MIA</td>\n",
              "      <td>2017-09-08</td>\n",
              "      <td>14</td>\n",
              "      <td>67</td>\n",
              "      <td>116</td>\n",
              "      <td>0.0</td>\n",
              "      <td>10</td>\n",
              "      <td>1012</td>\n",
              "      <td>40</td>\n",
              "      <td>76</td>\n",
              "      <td>19</td>\n",
              "      <td>82</td>\n",
              "      <td>82</td>\n",
              "      <td>84</td>\n",
              "      <td>600</td>\n",
              "      <td>1</td>\n",
              "    </tr>\n",
              "    <tr>\n",
              "      <th>379363</th>\n",
              "      <td>379363</td>\n",
              "      <td>1815385</td>\n",
              "      <td>441434</td>\n",
              "      <td>2017-09-03</td>\n",
              "      <td>3</td>\n",
              "      <td>2017</td>\n",
              "      <td>9</td>\n",
              "      <td>3</td>\n",
              "      <td>50.0</td>\n",
              "      <td>1.0</td>\n",
              "      <td>2300</td>\n",
              "      <td>95.0</td>\n",
              "      <td>12478</td>\n",
              "      <td>12892</td>\n",
              "      <td>324.0</td>\n",
              "      <td>200</td>\n",
              "      <td>1.0</td>\n",
              "      <td>68.0</td>\n",
              "      <td>JFK</td>\n",
              "      <td>LAX</td>\n",
              "      <td>50</td>\n",
              "      <td>LAX</td>\n",
              "      <td>2017-09-03</td>\n",
              "      <td>3</td>\n",
              "      <td>42</td>\n",
              "      <td>119</td>\n",
              "      <td>0.0</td>\n",
              "      <td>10</td>\n",
              "      <td>1011</td>\n",
              "      <td>21</td>\n",
              "      <td>68</td>\n",
              "      <td>6</td>\n",
              "      <td>83</td>\n",
              "      <td>83</td>\n",
              "      <td>61</td>\n",
              "      <td>200</td>\n",
              "      <td>71</td>\n",
              "      <td>JFK</td>\n",
              "      <td>2017-09-03</td>\n",
              "      <td>21</td>\n",
              "      <td>273</td>\n",
              "      <td>113</td>\n",
              "      <td>0.0</td>\n",
              "      <td>10</td>\n",
              "      <td>1013</td>\n",
              "      <td>0</td>\n",
              "      <td>63</td>\n",
              "      <td>30</td>\n",
              "      <td>68</td>\n",
              "      <td>68</td>\n",
              "      <td>86</td>\n",
              "      <td>2300</td>\n",
              "      <td>1</td>\n",
              "    </tr>\n",
              "    <tr>\n",
              "      <th>379364</th>\n",
              "      <td>379364</td>\n",
              "      <td>1815395</td>\n",
              "      <td>449441</td>\n",
              "      <td>2017-09-13</td>\n",
              "      <td>3</td>\n",
              "      <td>2017</td>\n",
              "      <td>9</td>\n",
              "      <td>13</td>\n",
              "      <td>2345.0</td>\n",
              "      <td>1.0</td>\n",
              "      <td>2200</td>\n",
              "      <td>60.0</td>\n",
              "      <td>12478</td>\n",
              "      <td>12892</td>\n",
              "      <td>229.0</td>\n",
              "      <td>200</td>\n",
              "      <td>1.0</td>\n",
              "      <td>33.0</td>\n",
              "      <td>JFK</td>\n",
              "      <td>LAX</td>\n",
              "      <td>290</td>\n",
              "      <td>LAX</td>\n",
              "      <td>2017-09-13</td>\n",
              "      <td>9</td>\n",
              "      <td>260</td>\n",
              "      <td>143</td>\n",
              "      <td>0.0</td>\n",
              "      <td>10</td>\n",
              "      <td>1012</td>\n",
              "      <td>75</td>\n",
              "      <td>64</td>\n",
              "      <td>11</td>\n",
              "      <td>66</td>\n",
              "      <td>66</td>\n",
              "      <td>93</td>\n",
              "      <td>200</td>\n",
              "      <td>310</td>\n",
              "      <td>JFK</td>\n",
              "      <td>2017-09-13</td>\n",
              "      <td>11</td>\n",
              "      <td>217</td>\n",
              "      <td>143</td>\n",
              "      <td>0.0</td>\n",
              "      <td>10</td>\n",
              "      <td>1012</td>\n",
              "      <td>77</td>\n",
              "      <td>69</td>\n",
              "      <td>15</td>\n",
              "      <td>71</td>\n",
              "      <td>71</td>\n",
              "      <td>93</td>\n",
              "      <td>2200</td>\n",
              "      <td>1</td>\n",
              "    </tr>\n",
              "    <tr>\n",
              "      <th>379365</th>\n",
              "      <td>379365</td>\n",
              "      <td>1815401</td>\n",
              "      <td>455805</td>\n",
              "      <td>2017-09-21</td>\n",
              "      <td>3</td>\n",
              "      <td>2017</td>\n",
              "      <td>9</td>\n",
              "      <td>21</td>\n",
              "      <td>2358.0</td>\n",
              "      <td>1.0</td>\n",
              "      <td>2200</td>\n",
              "      <td>73.0</td>\n",
              "      <td>12478</td>\n",
              "      <td>12892</td>\n",
              "      <td>247.0</td>\n",
              "      <td>200</td>\n",
              "      <td>1.0</td>\n",
              "      <td>51.0</td>\n",
              "      <td>JFK</td>\n",
              "      <td>LAX</td>\n",
              "      <td>482</td>\n",
              "      <td>LAX</td>\n",
              "      <td>2017-09-21</td>\n",
              "      <td>11</td>\n",
              "      <td>179</td>\n",
              "      <td>143</td>\n",
              "      <td>0.0</td>\n",
              "      <td>10</td>\n",
              "      <td>1010</td>\n",
              "      <td>56</td>\n",
              "      <td>63</td>\n",
              "      <td>12</td>\n",
              "      <td>65</td>\n",
              "      <td>65</td>\n",
              "      <td>91</td>\n",
              "      <td>200</td>\n",
              "      <td>502</td>\n",
              "      <td>JFK</td>\n",
              "      <td>2017-09-21</td>\n",
              "      <td>18</td>\n",
              "      <td>28</td>\n",
              "      <td>122</td>\n",
              "      <td>0.0</td>\n",
              "      <td>10</td>\n",
              "      <td>1015</td>\n",
              "      <td>96</td>\n",
              "      <td>64</td>\n",
              "      <td>26</td>\n",
              "      <td>72</td>\n",
              "      <td>72</td>\n",
              "      <td>75</td>\n",
              "      <td>2200</td>\n",
              "      <td>1</td>\n",
              "    </tr>\n",
              "  </tbody>\n",
              "</table>\n",
              "<p>379366 rows × 53 columns</p>\n",
              "</div>\n",
              "      <button class=\"colab-df-convert\" onclick=\"convertToInteractive('df-819d8069-2488-4051-a6cf-8641a9c03e8a')\"\n",
              "              title=\"Convert this dataframe to an interactive table.\"\n",
              "              style=\"display:none;\">\n",
              "        \n",
              "  <svg xmlns=\"http://www.w3.org/2000/svg\" height=\"24px\"viewBox=\"0 0 24 24\"\n",
              "       width=\"24px\">\n",
              "    <path d=\"M0 0h24v24H0V0z\" fill=\"none\"/>\n",
              "    <path d=\"M18.56 5.44l.94 2.06.94-2.06 2.06-.94-2.06-.94-.94-2.06-.94 2.06-2.06.94zm-11 1L8.5 8.5l.94-2.06 2.06-.94-2.06-.94L8.5 2.5l-.94 2.06-2.06.94zm10 10l.94 2.06.94-2.06 2.06-.94-2.06-.94-.94-2.06-.94 2.06-2.06.94z\"/><path d=\"M17.41 7.96l-1.37-1.37c-.4-.4-.92-.59-1.43-.59-.52 0-1.04.2-1.43.59L10.3 9.45l-7.72 7.72c-.78.78-.78 2.05 0 2.83L4 21.41c.39.39.9.59 1.41.59.51 0 1.02-.2 1.41-.59l7.78-7.78 2.81-2.81c.8-.78.8-2.07 0-2.86zM5.41 20L4 18.59l7.72-7.72 1.47 1.35L5.41 20z\"/>\n",
              "  </svg>\n",
              "      </button>\n",
              "      \n",
              "  <style>\n",
              "    .colab-df-container {\n",
              "      display:flex;\n",
              "      flex-wrap:wrap;\n",
              "      gap: 12px;\n",
              "    }\n",
              "\n",
              "    .colab-df-convert {\n",
              "      background-color: #E8F0FE;\n",
              "      border: none;\n",
              "      border-radius: 50%;\n",
              "      cursor: pointer;\n",
              "      display: none;\n",
              "      fill: #1967D2;\n",
              "      height: 32px;\n",
              "      padding: 0 0 0 0;\n",
              "      width: 32px;\n",
              "    }\n",
              "\n",
              "    .colab-df-convert:hover {\n",
              "      background-color: #E2EBFA;\n",
              "      box-shadow: 0px 1px 2px rgba(60, 64, 67, 0.3), 0px 1px 3px 1px rgba(60, 64, 67, 0.15);\n",
              "      fill: #174EA6;\n",
              "    }\n",
              "\n",
              "    [theme=dark] .colab-df-convert {\n",
              "      background-color: #3B4455;\n",
              "      fill: #D2E3FC;\n",
              "    }\n",
              "\n",
              "    [theme=dark] .colab-df-convert:hover {\n",
              "      background-color: #434B5C;\n",
              "      box-shadow: 0px 1px 3px 1px rgba(0, 0, 0, 0.15);\n",
              "      filter: drop-shadow(0px 1px 2px rgba(0, 0, 0, 0.3));\n",
              "      fill: #FFFFFF;\n",
              "    }\n",
              "  </style>\n",
              "\n",
              "      <script>\n",
              "        const buttonEl =\n",
              "          document.querySelector('#df-819d8069-2488-4051-a6cf-8641a9c03e8a button.colab-df-convert');\n",
              "        buttonEl.style.display =\n",
              "          google.colab.kernel.accessAllowed ? 'block' : 'none';\n",
              "\n",
              "        async function convertToInteractive(key) {\n",
              "          const element = document.querySelector('#df-819d8069-2488-4051-a6cf-8641a9c03e8a');\n",
              "          const dataTable =\n",
              "            await google.colab.kernel.invokeFunction('convertToInteractive',\n",
              "                                                     [key], {});\n",
              "          if (!dataTable) return;\n",
              "\n",
              "          const docLinkHtml = 'Like what you see? Visit the ' +\n",
              "            '<a target=\"_blank\" href=https://colab.research.google.com/notebooks/data_table.ipynb>data table notebook</a>'\n",
              "            + ' to learn more about interactive tables.';\n",
              "          element.innerHTML = '';\n",
              "          dataTable['output_type'] = 'display_data';\n",
              "          await google.colab.output.renderOutput(dataTable, element);\n",
              "          const docLink = document.createElement('div');\n",
              "          docLink.innerHTML = docLinkHtml;\n",
              "          element.appendChild(docLink);\n",
              "        }\n",
              "      </script>\n",
              "    </div>\n",
              "  </div>\n",
              "  "
            ],
            "text/plain": [
              "        Unnamed: 0  Unnamed: 0.1  Unnamed: 0_x  ... humidity_y  time_y  TargetDelay\n",
              "0                0             6        356840  ...         66     700            1\n",
              "1                1             7        145879  ...         66     700            1\n",
              "2                2            12         37814  ...         81    1300            1\n",
              "3                3            13           887  ...         83    1300            1\n",
              "4                4            36        221121  ...         88    1200            1\n",
              "...            ...           ...           ...  ...        ...     ...          ...\n",
              "379361      379361       1815378        414558  ...         70    1800            1\n",
              "379362      379362       1815379        413458  ...         84     600            1\n",
              "379363      379363       1815385        441434  ...         86    2300            1\n",
              "379364      379364       1815395        449441  ...         93    2200            1\n",
              "379365      379365       1815401        455805  ...         75    2200            1\n",
              "\n",
              "[379366 rows x 53 columns]"
            ]
          },
          "metadata": {},
          "execution_count": 5
        }
      ]
    },
    {
      "cell_type": "code",
      "source": [
        "X1=data_class.drop([\"ArrDelayMinutes\",\n",
        "                \"ArrTime\",\n",
        "                \"ArrDel15\",\n",
        "             \"DepDel15\",\n",
        "                 \"Unnamed: 0_x\",\n",
        "                 \"Unnamed: 0_y\",\n",
        "                 \"Unnamed: 0.1\",\n",
        "                \"Origin\",\n",
        "                \"Dest\",\n",
        "                \"airport_x\",\n",
        "                \"airport_y\",\n",
        "                \"FlightDate\",\n",
        "                \"date_y\",\n",
        "                \"date_x\",\n",
        "                \"time_x\",\n",
        "                \"time_y\",\n",
        "                \"windspeedKmph_y\",\n",
        "                \"winddirDegree_y\",\n",
        "                \"weatherCode_y\",\n",
        "                \"precipMM_y\",\n",
        "                \"visibility_y\",\n",
        "                \"pressure_y\",\n",
        "                \"cloudcover_y\",\n",
        "                \"DewPointF_y\",\n",
        "                \"WindGustKmph_y\",\n",
        "                \"tempF_y\",\n",
        "               \"WindChillF_y\",\n",
        "               \"humidity_y\",\n",
        "           \"Unnamed: 0\",'Unnamed: 0.1.1'],axis=1)"
      ],
      "metadata": {
        "id": "5kY0HbbSSR54"
      },
      "execution_count": 6,
      "outputs": []
    },
    {
      "cell_type": "code",
      "source": [
        "X2=data_full.drop([\"ArrDelayMinutes\",\n",
        "                \"ArrTime\",\n",
        "                \"ArrDel15\",\n",
        "             \"DepDel15\",\n",
        "                 \"Unnamed: 0_x\",\n",
        "                 \"Unnamed: 0_y\",\n",
        "                 \"Unnamed: 0.1\",\n",
        "                \"Origin\",\n",
        "                \"Dest\",\n",
        "                \"airport_x\",\n",
        "                \"airport_y\",\n",
        "                \"FlightDate\",\n",
        "                \"date_y\",\n",
        "                \"date_x\",\n",
        "                \"time_x\",\n",
        "                \"time_y\",\n",
        "                \"windspeedKmph_y\",\n",
        "                \"winddirDegree_y\",\n",
        "                \"weatherCode_y\",\n",
        "                \"precipMM_y\",\n",
        "                \"visibility_y\",\n",
        "                \"pressure_y\",\n",
        "                \"cloudcover_y\",\n",
        "                \"DewPointF_y\",\n",
        "                \"WindGustKmph_y\",\n",
        "                \"tempF_y\",\n",
        "               \"WindChillF_y\",\n",
        "               \"humidity_y\",\n",
        "           \"Unnamed: 0\",'Unnamed: 0.1.1'],axis=1)"
      ],
      "metadata": {
        "id": "_BzJLC0XUCAx"
      },
      "execution_count": 7,
      "outputs": []
    },
    {
      "cell_type": "code",
      "source": [
        "Y2=data_full.ArrDelayMinutes"
      ],
      "metadata": {
        "id": "knqSKP9QUHm_"
      },
      "execution_count": 8,
      "outputs": []
    },
    {
      "cell_type": "code",
      "source": [
        "Y1=data_class.ArrDelayMinutes"
      ],
      "metadata": {
        "id": "72VVK3K_THiZ"
      },
      "execution_count": 9,
      "outputs": []
    },
    {
      "cell_type": "code",
      "source": [
        "X_train1, X_test1, Y_train1, Y_test1 = train_test_split(X1, Y1, test_size = 0.25) "
      ],
      "metadata": {
        "id": "4gXJUlBOTLRb"
      },
      "execution_count": 10,
      "outputs": []
    },
    {
      "cell_type": "code",
      "source": [
        "x_train2, x_test2, y_train2, y_test2 = train_test_split(X2, Y2, test_size = 0.25) "
      ],
      "metadata": {
        "id": "k1EiEoOLTfHK"
      },
      "execution_count": 11,
      "outputs": []
    },
    {
      "cell_type": "code",
      "source": [
        "legr=LinearRegression().fit(X_train1,Y_train1)"
      ],
      "metadata": {
        "id": "mKtKRBVVTl2B"
      },
      "execution_count": 12,
      "outputs": []
    },
    {
      "cell_type": "code",
      "source": [
        "legrF=LinearRegression().fit(x_train2,y_train2)"
      ],
      "metadata": {
        "id": "DQJIimx7XEoe"
      },
      "execution_count": 23,
      "outputs": []
    },
    {
      "cell_type": "code",
      "source": [
        "y_predlegr=legr.predict(X_test1)"
      ],
      "metadata": {
        "id": "sMNscsCDUlwE"
      },
      "execution_count": 13,
      "outputs": []
    },
    {
      "cell_type": "code",
      "source": [
        "y_predlegrF=legrF.predict(x_test2)"
      ],
      "metadata": {
        "id": "DiVt8slZXUge"
      },
      "execution_count": 24,
      "outputs": []
    },
    {
      "cell_type": "code",
      "source": [
        "print(\"Classifier data\")\n",
        "print(\"mean_squared_error   \" , np.sqrt(mean_squared_error(Y_test1, y_predlegr)))\n",
        "print(\"mean_absolute_error  \" , mean_absolute_error(Y_test1, y_predlegr))\n",
        "print(\"R2score    \" , r2_score(Y_test1,y_predlegr))"
      ],
      "metadata": {
        "colab": {
          "base_uri": "https://localhost:8080/"
        },
        "id": "01xUwag7Uv0z",
        "outputId": "e7b8f005-78cc-43d8-d0ea-b6c77cdbdc3f"
      },
      "execution_count": 20,
      "outputs": [
        {
          "output_type": "stream",
          "name": "stdout",
          "text": [
            "Classifier data\n",
            "mean_squared_error    17.956537656363075\n",
            "mean_absolute_error   12.778710707339396\n",
            "R2score     0.9527933633545148\n"
          ]
        }
      ]
    },
    {
      "cell_type": "code",
      "source": [
        "print(\"Default Data\")\n",
        "print(\"mean_squared_error   \" , np.sqrt(mean_squared_error(y_test2, y_predlegrF)))\n",
        "print(\"mean_absolute_error  \" , mean_absolute_error(y_test2, y_predlegrF))\n",
        "print(\"R2score    \" , r2_score(y_test2,y_predlegrF))"
      ],
      "metadata": {
        "colab": {
          "base_uri": "https://localhost:8080/"
        },
        "id": "igH5j3dCXbpb",
        "outputId": "54c1e2bb-52d7-412c-be62-ef8da90ac77d"
      },
      "execution_count": 25,
      "outputs": [
        {
          "output_type": "stream",
          "name": "stdout",
          "text": [
            "Default Data\n",
            "mean_squared_error    19.81930429662002\n",
            "mean_absolute_error   14.453310547586781\n",
            "R2score     0.9234256654148817\n"
          ]
        }
      ]
    },
    {
      "cell_type": "code",
      "source": [
        "    plt.scatter(range(len(Y_test1[:100])), Y_test1[:100], color='blue')\n",
        "    plt.scatter(range(len(y_predlegr[:100])), y_predlegr[:100], color='red')"
      ],
      "metadata": {
        "colab": {
          "base_uri": "https://localhost:8080/",
          "height": 283
        },
        "id": "51PgnM1tmSA5",
        "outputId": "774130bc-ced3-4ebc-f789-8f84c599f4fb"
      },
      "execution_count": 48,
      "outputs": [
        {
          "output_type": "execute_result",
          "data": {
            "text/plain": [
              "<matplotlib.collections.PathCollection at 0x7ffaf93b72d0>"
            ]
          },
          "metadata": {},
          "execution_count": 48
        },
        {
          "output_type": "display_data",
          "data": {
            "image/png": "[encoded data removed]",
            "text/plain": [
              "<Figure size 432x288 with 1 Axes>"
            ]
          },
          "metadata": {
            "needs_background": "light"
          }
        }
      ]
    },
    {
      "cell_type": "code",
      "source": [
        "plt.title(\"Default Data\")\n",
        "plt.scatter(range(len(y_test2[:100])), y_test2[:100], color='blue')\n",
        "plt.scatter(range(len(y_predlegrF[:100])), y_predlegrF[:100], color='red')"
      ],
      "metadata": {
        "colab": {
          "base_uri": "https://localhost:8080/",
          "height": 299
        },
        "id": "52n64_DDb-jl",
        "outputId": "67111216-4cd9-4a37-e2c8-082f9344bc72"
      },
      "execution_count": 50,
      "outputs": [
        {
          "output_type": "execute_result",
          "data": {
            "text/plain": [
              "<matplotlib.collections.PathCollection at 0x7ffaf924fb50>"
            ]
          },
          "metadata": {},
          "execution_count": 50
        },
        {
          "output_type": "display_data",
          "data": {
            "image/png": "[encoded data removed]",
            "text/plain": [
              "<Figure size 432x288 with 1 Axes>"
            ]
          },
          "metadata": {
            "needs_background": "light"
          }
        }
      ]
    },
    {
      "cell_type": "code",
      "source": [
        "ex=ExtraTreesRegressor().fit(X_train1,Y_train1)"
      ],
      "metadata": {
        "id": "habAKEoBdymD"
      },
      "execution_count": 51,
      "outputs": []
    },
    {
      "cell_type": "code",
      "source": [
        "exF=ExtraTreesRegressor().fit(x_train2,y_train2)"
      ],
      "metadata": {
        "id": "rKT7X5qzeFgN"
      },
      "execution_count": 54,
      "outputs": []
    },
    {
      "cell_type": "code",
      "source": [
        "y_predex=ex.predict(X_test1)"
      ],
      "metadata": {
        "id": "LqJpxIKJd4K2"
      },
      "execution_count": 52,
      "outputs": []
    },
    {
      "cell_type": "code",
      "source": [
        "y_predexF=exF.predict(x_test2)"
      ],
      "metadata": {
        "id": "b-d4YaBCeNjl"
      },
      "execution_count": 55,
      "outputs": []
    },
    {
      "cell_type": "code",
      "source": [
        "print(\"Classifier data\")\n",
        "print(\"mean_squared_error   \" , np.sqrt(mean_squared_error(Y_test1, y_predex)))\n",
        "print(\"mean_absolute_error  \" , mean_absolute_error(Y_test1, y_predex))\n",
        "print(\"R2score    \" , r2_score(Y_test1,y_predex))"
      ],
      "metadata": {
        "colab": {
          "base_uri": "https://localhost:8080/"
        },
        "id": "-4NKynsNeALt",
        "outputId": "3f5586e7-e0bc-4c8e-c514-583cb6d14cd7"
      },
      "execution_count": 53,
      "outputs": [
        {
          "output_type": "stream",
          "name": "stdout",
          "text": [
            "Classifier data\n",
            "mean_squared_error    17.27652038551669\n",
            "mean_absolute_error   11.809207158568286\n",
            "R2score     0.9563011093709415\n"
          ]
        }
      ]
    },
    {
      "cell_type": "code",
      "source": [
        "print(\"Default data\")\n",
        "print(\"mean_squared_error   \" , np.sqrt(mean_squared_error(y_test2, y_predexF)))\n",
        "print(\"mean_absolute_error  \" , mean_absolute_error(y_test2, y_predexF))\n",
        "print(\"R2score    \" , r2_score(y_test2,y_predexF))"
      ],
      "metadata": {
        "colab": {
          "base_uri": "https://localhost:8080/"
        },
        "id": "4cIZlbq6eTB4",
        "outputId": "acb0163f-468c-40da-b7f7-3512de180d0f"
      },
      "execution_count": 56,
      "outputs": [
        {
          "output_type": "stream",
          "name": "stdout",
          "text": [
            "Default data\n",
            "mean_squared_error    16.368263609342\n",
            "mean_absolute_error   10.901090972354021\n",
            "R2score     0.947771008311642\n"
          ]
        }
      ]
    },
    {
      "cell_type": "code",
      "source": [
        "plt.title(\"Classifier Data\")\n",
        "plt.scatter(range(len(Y_test1[:100])), Y_test1[:100], color='blue')\n",
        "plt.scatter(range(len(y_predex[:100])), y_predex[:100], color='red')\n"
      ],
      "metadata": {
        "colab": {
          "base_uri": "https://localhost:8080/",
          "height": 299
        },
        "id": "o4cTE8vre2CF",
        "outputId": "3e20b55a-28e5-497d-e4cd-2c406f2de46d"
      },
      "execution_count": 57,
      "outputs": [
        {
          "output_type": "execute_result",
          "data": {
            "text/plain": [
              "<matplotlib.collections.PathCollection at 0x7ffaf9394950>"
            ]
          },
          "metadata": {},
          "execution_count": 57
        },
        {
          "output_type": "display_data",
          "data": {
            "image/png": "[encoded data removed]",
            "text/plain": [
              "<Figure size 432x288 with 1 Axes>"
            ]
          },
          "metadata": {
            "needs_background": "light"
          }
        }
      ]
    },
    {
      "cell_type": "code",
      "source": [
        "plt.title(\"Default Data\")\n",
        "plt.scatter(range(len(y_test2[:100])), y_test2[:100], color='blue')\n",
        "plt.scatter(range(len(y_predexF[:100])), y_predexF[:100], color='red')"
      ],
      "metadata": {
        "colab": {
          "base_uri": "https://localhost:8080/",
          "height": 299
        },
        "id": "gaSZxRH_eo2L",
        "outputId": "c7041ec7-65a2-43bf-b9fe-de685ceaa062"
      },
      "execution_count": 58,
      "outputs": [
        {
          "output_type": "execute_result",
          "data": {
            "text/plain": [
              "<matplotlib.collections.PathCollection at 0x7ffaf9431e50>"
            ]
          },
          "metadata": {},
          "execution_count": 58
        },
        {
          "output_type": "display_data",
          "data": {
            "image/png": "[encoded data removed]",
            "text/plain": [
              "<Figure size 432x288 with 1 Axes>"
            ]
          },
          "metadata": {
            "needs_background": "light"
          }
        }
      ]
    },
    {
      "cell_type": "code",
      "source": [
        "xgbb=xgb.XGBRegressor().fit(X_train1,Y_train1)"
      ],
      "metadata": {
        "colab": {
          "base_uri": "https://localhost:8080/"
        },
        "id": "pU3_d3DUZQ0y",
        "outputId": "a835b8f7-3e56-4dff-9983-63aee5229342"
      },
      "execution_count": 22,
      "outputs": [
        {
          "output_type": "stream",
          "name": "stdout",
          "text": [
            "[14:52:43] WARNING: /workspace/src/objective/regression_obj.cu:152: reg:linear is now deprecated in favor of reg:squarederror.\n"
          ]
        }
      ]
    },
    {
      "cell_type": "code",
      "source": [
        "xgbbF=xgb.XGBRegressor().fit(x_train2,y_train2)"
      ],
      "metadata": {
        "colab": {
          "base_uri": "https://localhost:8080/"
        },
        "id": "kc8cvgqaX4Yr",
        "outputId": "22cfe586-7abf-4014-cf47-03395bacc43c"
      },
      "execution_count": 26,
      "outputs": [
        {
          "output_type": "stream",
          "name": "stdout",
          "text": [
            "[14:54:06] WARNING: /workspace/src/objective/regression_obj.cu:152: reg:linear is now deprecated in favor of reg:squarederror.\n"
          ]
        }
      ]
    },
    {
      "cell_type": "code",
      "source": [
        "y_predxg=xgbb.predict(X_test1)"
      ],
      "metadata": {
        "id": "Q7_DD3wGU70a"
      },
      "execution_count": 27,
      "outputs": []
    },
    {
      "cell_type": "code",
      "source": [
        "y_predxgF=xgbbF.predict(x_test2)"
      ],
      "metadata": {
        "id": "-4DrKsiYYRG2"
      },
      "execution_count": 29,
      "outputs": []
    },
    {
      "cell_type": "code",
      "source": [
        "print(\"Classifier data\")\n",
        "print(\"mean_squared_error   \" , np.sqrt(mean_squared_error(Y_test1, y_predxg)))\n",
        "print(\"mean_absolute_error  \" , mean_absolute_error(Y_test1, y_predxg))\n",
        "print(\"R2score    \" , r2_score(Y_test1,y_predxg))"
      ],
      "metadata": {
        "colab": {
          "base_uri": "https://localhost:8080/"
        },
        "id": "486uRJU1WHy5",
        "outputId": "b9dbac8e-c6e4-4c7d-85aa-70368629ce7c"
      },
      "execution_count": 31,
      "outputs": [
        {
          "output_type": "stream",
          "name": "stdout",
          "text": [
            "Classifier data\n",
            "mean_squared_error    17.109083800508078\n",
            "mean_absolute_error   11.524018809054821\n",
            "R2score     0.9571440264921973\n"
          ]
        }
      ]
    },
    {
      "cell_type": "code",
      "source": [
        "print(\"Default Data\")\n",
        "print(\"mean_squared_error   \" , np.sqrt(mean_squared_error(y_test2, y_predxgF)))\n",
        "print(\"mean_absolute_error  \" , mean_absolute_error(y_test2, y_predxgF))\n",
        "print(\"R2score    \" , r2_score(y_test2,y_predxgF))"
      ],
      "metadata": {
        "colab": {
          "base_uri": "https://localhost:8080/"
        },
        "id": "zRqwOVK_Yb3I",
        "outputId": "bbfc7b0d-6bb8-4407-8fff-3d51f8b0749e"
      },
      "execution_count": 32,
      "outputs": [
        {
          "output_type": "stream",
          "name": "stdout",
          "text": [
            "Default Data\n",
            "mean_squared_error    17.021674201901398\n",
            "mean_absolute_error   11.683083844510168\n",
            "R2score     0.9435178827814792\n"
          ]
        }
      ]
    },
    {
      "cell_type": "code",
      "source": [
        "    plt.scatter(range(len(Y_test1[:100])), Y_test1[:100], color='blue')\n",
        "    plt.scatter(range(len(y_predxg[:100])), y_predxg[:100], color='red')"
      ],
      "metadata": {
        "colab": {
          "base_uri": "https://localhost:8080/",
          "height": 283
        },
        "id": "Wvj0DaJymKTR",
        "outputId": "111a369f-f8fa-4231-9b37-3c10faccbcba"
      },
      "execution_count": 46,
      "outputs": [
        {
          "output_type": "execute_result",
          "data": {
            "text/plain": [
              "<matplotlib.collections.PathCollection at 0x7ffaf94c71d0>"
            ]
          },
          "metadata": {},
          "execution_count": 46
        },
        {
          "output_type": "display_data",
          "data": {
            "image/png": "[encoded data removed]",
            "text/plain": [
              "<Figure size 432x288 with 1 Axes>"
            ]
          },
          "metadata": {
            "needs_background": "light"
          }
        }
      ]
    },
    {
      "cell_type": "code",
      "source": [
        "plt.title(\"Default Data\")\n",
        "plt.scatter(range(len(y_test2[:100])), y_test2[:100], color='blue')\n",
        "plt.scatter(range(len(y_predxgF[:100])), y_predxgF[:100], color='red')"
      ],
      "metadata": {
        "colab": {
          "base_uri": "https://localhost:8080/",
          "height": 299
        },
        "id": "IAW1bKMLiwmp",
        "outputId": "12f2f6e0-8165-4684-b828-d8326f426527"
      },
      "execution_count": 47,
      "outputs": [
        {
          "output_type": "execute_result",
          "data": {
            "text/plain": [
              "<matplotlib.collections.PathCollection at 0x7ffaf93f2e10>"
            ]
          },
          "metadata": {},
          "execution_count": 47
        },
        {
          "output_type": "display_data",
          "data": {
            "image/png": "[encoded data removed]",
            "text/plain": [
              "<Figure size 432x288 with 1 Axes>"
            ]
          },
          "metadata": {
            "needs_background": "light"
          }
        }
      ]
    },
    {
      "cell_type": "code",
      "source": [
        "rf=RandomForestRegressor(n_estimators=100).fit(X_train1,Y_train1)"
      ],
      "metadata": {
        "id": "4rmRRnAuat7D"
      },
      "execution_count": 33,
      "outputs": []
    },
    {
      "cell_type": "code",
      "source": [
        "rfF=RandomForestRegressor(n_estimators=100).fit(x_train2,y_train2)"
      ],
      "metadata": {
        "id": "Wv6lVaOTY1JG"
      },
      "execution_count": 36,
      "outputs": []
    },
    {
      "cell_type": "code",
      "source": [
        "y_predrf=rf.predict(X_test1)"
      ],
      "metadata": {
        "id": "zM8l1M21a4DZ"
      },
      "execution_count": 34,
      "outputs": []
    },
    {
      "cell_type": "code",
      "source": [
        "y_predrfF=rfF.predict(x_test2)"
      ],
      "metadata": {
        "id": "7z31igSJZBKU"
      },
      "execution_count": 37,
      "outputs": []
    },
    {
      "cell_type": "code",
      "source": [
        "print(\"Classifier Data\")\n",
        "print(\"mean_squared_error   \" , np.sqrt(mean_squared_error(Y_test1, y_predrf)))\n",
        "print(\"mean_absolute_error  \" , mean_absolute_error(Y_test1, y_predrf))\n",
        "print(\"R2score    \" , r2_score(Y_test1,y_predrf))"
      ],
      "metadata": {
        "colab": {
          "base_uri": "https://localhost:8080/"
        },
        "id": "czXOUlPta7kd",
        "outputId": "7949b982-316e-4818-d12b-20882701b651"
      },
      "execution_count": 35,
      "outputs": [
        {
          "output_type": "stream",
          "name": "stdout",
          "text": [
            "Classifier Data\n",
            "mean_squared_error    17.42731769682424\n",
            "mean_absolute_error   11.780643067815008\n",
            "R2score     0.9555349326288225\n"
          ]
        }
      ]
    },
    {
      "cell_type": "code",
      "source": [
        "print(\"Default Data\")\n",
        "print(\"mean_squared_error   \" , np.sqrt(mean_squared_error(y_test2, y_predrfF)))\n",
        "print(\"mean_absolute_error  \" , mean_absolute_error(y_test2, y_predrfF))\n",
        "print(\"R2score    \" , r2_score(y_test2,y_predrfF))"
      ],
      "metadata": {
        "colab": {
          "base_uri": "https://localhost:8080/"
        },
        "id": "lmK7ePEuZJLq",
        "outputId": "5d62e124-f594-42f2-a7da-6c8967bc631b"
      },
      "execution_count": 38,
      "outputs": [
        {
          "output_type": "stream",
          "name": "stdout",
          "text": [
            "Default Data\n",
            "mean_squared_error    16.827070849456067\n",
            "mean_absolute_error   11.7918562692237\n",
            "R2score     0.9448019841523083\n"
          ]
        }
      ]
    },
    {
      "cell_type": "code",
      "source": [
        "    plt.title(\"Classifier Data\")\n",
        "    plt.scatter(range(len(Y_test1[:100])), Y_test1[:100], color='blue')\n",
        "    plt.scatter(range(len(y_predrf[:100])), y_predrf[:100], color='red')\n",
        "\n",
        "  "
      ],
      "metadata": {
        "colab": {
          "base_uri": "https://localhost:8080/",
          "height": 299
        },
        "id": "bOkKLQ3ua-4v",
        "outputId": "315c8a73-8b02-4695-958d-cdd19ade9e6a"
      },
      "execution_count": 43,
      "outputs": [
        {
          "output_type": "execute_result",
          "data": {
            "text/plain": [
              "<matplotlib.collections.PathCollection at 0x7ffaf9506990>"
            ]
          },
          "metadata": {},
          "execution_count": 43
        },
        {
          "output_type": "display_data",
          "data": {
            "image/png": "[encoded data removed]",
            "text/plain": [
              "<Figure size 432x288 with 1 Axes>"
            ]
          },
          "metadata": {
            "needs_background": "light"
          }
        }
      ]
    },
    {
      "cell_type": "code",
      "source": [
        "plt.title(\"Default Data\")\n",
        "plt.scatter(range(len(y_test2[:100])), y_test2[:100], color='blue')\n",
        "plt.scatter(range(len(y_predrfF[:100])), y_predrfF[:100], color='red')"
      ],
      "metadata": {
        "colab": {
          "base_uri": "https://localhost:8080/",
          "height": 299
        },
        "id": "Ovd9dngkbq1C",
        "outputId": "1e11547a-c82e-4ed2-be65-e3f6c3d0873f"
      },
      "execution_count": 59,
      "outputs": [
        {
          "output_type": "execute_result",
          "data": {
            "text/plain": [
              "<matplotlib.collections.PathCollection at 0x7ffaf9edc390>"
            ]
          },
          "metadata": {},
          "execution_count": 59
        },
        {
          "output_type": "display_data",
          "data": {
            "image/png": "[encoded data removed]",
            "text/plain": [
              "<Figure size 432x288 with 1 Axes>"
            ]
          },
          "metadata": {
            "needs_background": "light"
          }
        }
      ]
    },
    {
      "cell_type": "code",
      "source": [
        "Y_test[:10]"
      ],
      "metadata": {
        "colab": {
          "base_uri": "https://localhost:8080/"
        },
        "id": "yw4_R1BodXpF",
        "outputId": "cc69e848-c1a0-4a66-e549-b862b5c5b396"
      },
      "execution_count": null,
      "outputs": [
        {
          "output_type": "execute_result",
          "data": {
            "text/plain": [
              "47749     24.0\n",
              "6931      37.0\n",
              "37610     12.0\n",
              "36516     99.0\n",
              "3477      50.0\n",
              "20642     55.0\n",
              "12882     15.0\n",
              "56443     77.0\n",
              "44091     59.0\n",
              "23862    239.0\n",
              "Name: ArrDelayMinutes, dtype: float64"
            ]
          },
          "metadata": {},
          "execution_count": 40
        }
      ]
    },
    {
      "cell_type": "code",
      "source": [
        "y_predlegr[:10]"
      ],
      "metadata": {
        "colab": {
          "base_uri": "https://localhost:8080/"
        },
        "id": "VPU2rqD-eHhF",
        "outputId": "b947a486-4a55-40f2-a1df-0ed9a3cf5e6e"
      },
      "execution_count": null,
      "outputs": [
        {
          "output_type": "execute_result",
          "data": {
            "text/plain": [
              "array([ 15.80731489,  35.7616594 ,   3.95403593, 103.26536127,\n",
              "        42.04896131,  66.17815932,  -0.34701847,  69.7693388 ,\n",
              "        79.53207811, 243.77191535])"
            ]
          },
          "metadata": {},
          "execution_count": 56
        }
      ]
    }
  ]
}